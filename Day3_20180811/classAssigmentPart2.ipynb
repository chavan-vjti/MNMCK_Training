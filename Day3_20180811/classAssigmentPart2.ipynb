{
 "cells": [
  {
   "cell_type": "markdown",
   "metadata": {},
   "source": [
    "### Throughtly understad emulatePrint.py file and find out out of follwoing \n",
    "\n",
    "print3(1,2,3)\n",
    "\n",
    "print3(1, 2, 3, sep='')\n",
    "\n",
    "print3(1, 2, 3, sep='...')\n",
    "\n",
    "print3(1, [2], (3,), sep='...')\n",
    "\n",
    "print3(4, 5, 6, sep='', end='')\n",
    "\n",
    "print3(7, 8, 9)\n",
    "\n",
    "import sys\n",
    "\n",
    "print3(1, 2, 3, sep='??', end='.\\n', file=sys.stderr)\n",
    "\n",
    "###  what is out of following and why\n",
    "\n",
    "#### 1\n",
    "    def func(a, b=15, c=13): \n",
    "        print(a, b, c)\n",
    "\n",
    "#### 2\n",
    "     def func(a, b, c=6): \n",
    "         print(a, b, c)\n",
    "         \n",
    "#### 3  \n",
    "    def func(a, *cpargs): \n",
    "        print(a, cpargs)\n",
    "        \n",
    "#### 4\n",
    "    def func(a, **kargs): \n",
    "        print(a, kargs)\n",
    "\n",
    "#### 5\n",
    "     def func(a, b, c=10, d=15): \n",
    "         print(a, b, c, d)\n",
    "#### 6\n",
    "    def func(a, b, c): \n",
    "        a = 2; b[0] = 'x'; c['a'] = 'y'\n",
    "    \n",
    "        \n",
    "        "
   ]
  },
  {
   "cell_type": "code",
   "execution_count": null,
   "metadata": {
    "collapsed": true
   },
   "outputs": [],
   "source": []
  }
 ],
 "metadata": {
  "kernelspec": {
   "display_name": "Python [conda root]",
   "language": "python",
   "name": "conda-root-py"
  },
  "language_info": {
   "codemirror_mode": {
    "name": "ipython",
    "version": 3
   },
   "file_extension": ".py",
   "mimetype": "text/x-python",
   "name": "python",
   "nbconvert_exporter": "python",
   "pygments_lexer": "ipython3",
   "version": "3.5.4"
  },
  "toc": {
   "base_numbering": 1,
   "nav_menu": {},
   "number_sections": true,
   "sideBar": true,
   "skip_h1_title": false,
   "title_cell": "Table of Contents",
   "title_sidebar": "Contents",
   "toc_cell": false,
   "toc_position": {},
   "toc_section_display": true,
   "toc_window_display": false
  }
 },
 "nbformat": 4,
 "nbformat_minor": 2
}
