{
 "cells": [
  {
   "cell_type": "markdown",
   "metadata": {},
   "source": [
    "## Python Program Structure \n",
    "\n",
    "Programs are composed of modules.\n",
    "Modules contain statements.\n",
    "Statements contain expressions.\n",
    "Expressions create and process objects.\n",
    "\n",
    "\n",
    "\n",
    "All Python compound statements—statements that have other statements nested inside them—follow the same general pattern of a header line terminated in a colon, followed by a nested block of code usually indented underneath the header line, like this:\n",
    "\n",
    "Header line:\n",
    "\n",
    "Nested statement block\n"
   ]
  },
  {
   "cell_type": "markdown",
   "metadata": {},
   "source": [
    "# IF Statement\n",
    "The Python if statement is typical of if statements in most procedural languages. It takes the form of an if test, followed by one or more optional elif (“else if”) tests and a final optional else block. The tests and the else part each have an associated block of nested statements, indented under a header line. When the if statement runs, Python executes the block of code associated with the first test that evaluates to true, or the else block if all tests prove false. The general form of an if statement looks like this:\n",
    "\n",
    "if test1: \n",
    "\n",
    "    statements1\n",
    "    \n",
    "elif test2:\n",
    "\n",
    "    statements2"
   ]
  },
  {
   "cell_type": "code",
   "execution_count": 2,
   "metadata": {},
   "outputs": [
    {
     "name": "stdout",
     "output_type": "stream",
     "text": [
      "true\n"
     ]
    }
   ],
   "source": [
    "if 1:\n",
    "    print('true')"
   ]
  },
  {
   "cell_type": "code",
   "execution_count": 5,
   "metadata": {},
   "outputs": [
    {
     "name": "stdout",
     "output_type": "stream",
     "text": [
      "True\n"
     ]
    }
   ],
   "source": [
    "if not 1:\n",
    "    print (False)\n",
    "else :\n",
    "    print (True)\n",
    "    \n",
    "    "
   ]
  },
  {
   "cell_type": "code",
   "execution_count": 6,
   "metadata": {},
   "outputs": [
    {
     "name": "stdout",
     "output_type": "stream",
     "text": [
      "Run away! Run away!\n"
     ]
    }
   ],
   "source": [
    "\n",
    "x = 'killer rabbit' \n",
    "if x == 'roger':\n",
    "    print(\"shave and a haircut\") \n",
    "elif x == 'bugs':\n",
    "    print(\"what's up doc?\") \n",
    "else:\n",
    "    print('Run away! Run away!')"
   ]
  },
  {
   "cell_type": "markdown",
   "metadata": {},
   "source": [
    "### python Statements execute one afteranother,until you say otherwise.\n",
    "\n",
    "Python normally runs statements in a file or nested block in order from first to last as a sequence, but statements like if (as well as loops and exceptions) cause the interpreter to jump around in your code. Because Python’s path through a program is called the control flow, statements such as if that affect it are often called control- flow statements.\n",
    "\n",
    "### Block and statement boundaries are detected automatically\n",
    "\n",
    "### Compound statements = header+“:”+indented statements\n",
    "\n",
    "### Blanklines,spaces,and comments are  ignored"
   ]
  },
  {
   "cell_type": "code",
   "execution_count": 11,
   "metadata": {},
   "outputs": [
    {
     "name": "stdout",
     "output_type": "stream",
     "text": [
      "block2\n",
      "block1\n",
      "block0\n"
     ]
    }
   ],
   "source": [
    "x =1 \n",
    "if x:\n",
    "    y= 2 \n",
    "    if y:\n",
    "        print('block2') \n",
    "    print('block1')\n",
    "print('block0')"
   ]
  },
  {
   "cell_type": "code",
   "execution_count": 13,
   "metadata": {},
   "outputs": [
    {
     "name": "stdout",
     "output_type": "stream",
     "text": [
      "SPAMSPAMSPAMSPAMSPAMSPAMSPAMSPAM\n",
      "SPAMNISPAMNI\n"
     ]
    }
   ],
   "source": [
    "x = 'SPAM'\n",
    "if 'rubbery' in 'shrubbery':\n",
    "    print(x * 8) \n",
    "    x += 'NI'\n",
    "if x.endswith('NI'): \n",
    "    x *= 2\n",
    "    print(x)"
   ]
  },
  {
   "cell_type": "markdown",
   "metadata": {},
   "source": [
    "### In Python:\n",
    "• All objects have an inherent Boolean true or false value.\n",
    "\n",
    "• Any nonzero number or nonempty object is true.\n",
    "\n",
    "• Zero numbers, empty objects, and the special object None are considered false.\n",
    "\n",
    "• Comparisons and equality tests are applied recursively to data structures.\n",
    "\n",
    "• Comparisons and equality tests return True or False (custom versions of 1 and 0).\n",
    "\n",
    "• Boolean and and or operators return a true or false operand object.\n",
    "\n",
    "• Boolean operators stop evaluating (“short circuit”) as soon as a result is known.\n",
    "\n",
    "\n",
    "The if statement takes action on truth values, but Boolean operators are used to com- bine the results of other tests in richer ways to produce new truth values. More formally, there are three Boolean expression operators in Python:\n",
    "\n",
    "X and Y\n",
    "\n",
    "    Is true if both X and Y are true\n",
    "    \n",
    "X or Y\n",
    "\n",
    "    Is true if either X or Y is true\n",
    "    \n",
    "not X\n",
    "\n",
    "    Is true if X is false (the expression returns True or False)"
   ]
  },
  {
   "cell_type": "code",
   "execution_count": null,
   "metadata": {
    "collapsed": true
   },
   "outputs": [],
   "source": []
  }
 ],
 "metadata": {
  "kernelspec": {
   "display_name": "Python [conda root]",
   "language": "python",
   "name": "conda-root-py"
  },
  "language_info": {
   "codemirror_mode": {
    "name": "ipython",
    "version": 3
   },
   "file_extension": ".py",
   "mimetype": "text/x-python",
   "name": "python",
   "nbconvert_exporter": "python",
   "pygments_lexer": "ipython3",
   "version": "3.5.4"
  },
  "toc": {
   "base_numbering": 1,
   "nav_menu": {},
   "number_sections": true,
   "sideBar": true,
   "skip_h1_title": false,
   "title_cell": "Table of Contents",
   "title_sidebar": "Contents",
   "toc_cell": false,
   "toc_position": {},
   "toc_section_display": true,
   "toc_window_display": false
  }
 },
 "nbformat": 4,
 "nbformat_minor": 2
}
