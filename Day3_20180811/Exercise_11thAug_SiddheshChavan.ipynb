{
 "cells": [
  {
   "cell_type": "markdown",
   "metadata": {},
   "source": [
    "## 1) Write a Python program to find those numbers which are divisible by 7 and multiple of 5, between n1 (ex 150) and (n2 2900 )(both included)."
   ]
  },
  {
   "cell_type": "code",
   "execution_count": 8,
   "metadata": {},
   "outputs": [
    {
     "name": "stdout",
     "output_type": "stream",
     "text": [
      "Print first number: 10\n",
      "Print second number: 40\n",
      "Numbers divisible between 10 and 40 are [35]\n"
     ]
    }
   ],
   "source": [
    "n1 = int(input(\"Print first number: \"))\n",
    "n2 = int(input(\"Print second number: \"))\n",
    "def divisible(x,y):\n",
    "    temp_list = []\n",
    "    for i in range(x,y+1):\n",
    "        if (i%7 == 0) & (i%5 ==0):\n",
    "            temp_list.append(i)\n",
    "        else:\n",
    "            pass\n",
    "    return temp_list\n",
    "j = divisible(n1,n2)\n",
    "print(\"Numbers divisible between %d and %d are \" %(n1,n2), end='')\n",
    "print(j)"
   ]
  },
  {
   "cell_type": "markdown",
   "metadata": {},
   "source": [
    "## 2) Write a Python program to convert temperatures to and from celsius, fahrenheit. Formula : c/5 = f-32/9\n"
   ]
  },
  {
   "cell_type": "code",
   "execution_count": null,
   "metadata": {},
   "outputs": [],
   "source": [
    "degree = float(input(\"Enter temperature in degrees: \"))\n",
    "fahrenit = "
   ]
  },
  {
   "cell_type": "markdown",
   "metadata": {},
   "source": [
    "## 3) Write a Python program that accepts a word from the user and reverse it."
   ]
  },
  {
   "cell_type": "code",
   "execution_count": null,
   "metadata": {},
   "outputs": [],
   "source": [
    "word = input(\"\")"
   ]
  }
 ],
 "metadata": {
  "kernelspec": {
   "display_name": "python37",
   "language": "python",
   "name": "python37"
  },
  "language_info": {
   "codemirror_mode": {
    "name": "ipython",
    "version": 3
   },
   "file_extension": ".py",
   "mimetype": "text/x-python",
   "name": "python",
   "nbconvert_exporter": "python",
   "pygments_lexer": "ipython3",
   "version": "3.7.0"
  }
 },
 "nbformat": 4,
 "nbformat_minor": 2
}
