{
 "cells": [
  {
   "cell_type": "markdown",
   "metadata": {},
   "source": [
    "## 1) Write a Python program to find those numbers which are divisible by 7 and multiple of 5, between n1 (ex 150) and (n2 2900 )(both included)."
   ]
  },
  {
   "cell_type": "code",
   "execution_count": 28,
   "metadata": {},
   "outputs": [
    {
     "name": "stdout",
     "output_type": "stream",
     "text": [
      "Print first number: 30\n",
      "Print second number: 70\n",
      "Numbers divisible between 30 and 70 are [35, 70]\n"
     ]
    }
   ],
   "source": [
    "n1 = int(input(\"Print first number: \"))\n",
    "n2 = int(input(\"Print second number: \"))\n",
    "def divisible(x,y):\n",
    "    temp_list = []\n",
    "    for i in range(x,y+1):\n",
    "        if (i%7 == 0) & (i%5 ==0):\n",
    "            temp_list.append(i)\n",
    "        else:\n",
    "            pass\n",
    "    return temp_list\n",
    "j = divisible(n1,n2)\n",
    "print(\"Numbers divisible between %d and %d are \" %(n1,n2), end='')\n",
    "print(j)"
   ]
  },
  {
   "cell_type": "markdown",
   "metadata": {},
   "source": [
    "## 2) Write a Python program to convert temperatures to and from celsius, fahrenheit. Formula : c/5 = f-32/9\n"
   ]
  },
  {
   "cell_type": "code",
   "execution_count": 17,
   "metadata": {},
   "outputs": [
    {
     "name": "stdout",
     "output_type": "stream",
     "text": [
      "Type 1 to convert Fahrenheit to Celsius and 2 for vice versa: 1\n",
      "Enter temperature in Fahrenheit: 45\n",
      "Equivalent temperature in Celsius is 7.222222 degrees.\n"
     ]
    }
   ],
   "source": [
    "choice = input(\"Type 1 to convert Fahrenheit to Celsius and 2 for vice versa: \")\n",
    "if choice == '1':\n",
    "    fah = float(input(\"Enter temperature in Fahrenheit: \"))\n",
    "    deg = (fah - 32)*(5/9)\n",
    "    print(\"Equivalent temperature in Celsius is %f degrees.\" %deg)\n",
    "else:\n",
    "    deg = float(input(\"Enter temperature in Celsius: \"))\n",
    "    fah = (9*deg/5) + 32\n",
    "    print(\"Equivalent temperature in Fahrenheit is %f \" %fah)"
   ]
  },
  {
   "cell_type": "markdown",
   "metadata": {},
   "source": [
    "## 3) Write a Python program that accepts a word from the user and reverse it."
   ]
  },
  {
   "cell_type": "code",
   "execution_count": 18,
   "metadata": {},
   "outputs": [
    {
     "name": "stdout",
     "output_type": "stream",
     "text": [
      "siddhesh\n",
      "hsehddis\n"
     ]
    }
   ],
   "source": [
    "word = input(\"\")\n",
    "print(word[::-1])"
   ]
  },
  {
   "cell_type": "markdown",
   "metadata": {},
   "source": [
    "## 4) Write a Python program to count the number of even and odd numbers from a series of numbers take sameple number = (1,2,3,4,5)"
   ]
  },
  {
   "cell_type": "code",
   "execution_count": 24,
   "metadata": {},
   "outputs": [
    {
     "name": "stdout",
     "output_type": "stream",
     "text": [
      "Enter the numbers: 1,2,3,4,5,6,7,8\n",
      "Count of even numbers in entered numbers are 4\n",
      "Count of odd numbers in entered numbers are 4\n"
     ]
    }
   ],
   "source": [
    "series = input('Enter the numbers: ')\n",
    "series = list(map(int, series.split(',')))\n",
    "odd = []\n",
    "even = []\n",
    "for x in series:\n",
    "    if x%2 == 0:\n",
    "        even.append(x)\n",
    "    else:\n",
    "        odd.append(x)\n",
    "print(\"Count of even numbers in entered numbers are %d\" %len(even))\n",
    "print(\"Count of odd numbers in entered numbers are %d\" %len(odd))"
   ]
  },
  {
   "cell_type": "markdown",
   "metadata": {},
   "source": [
    "## 5) Write a Python program that prints all the numbers from 0 to 6 except 3 and 6."
   ]
  },
  {
   "cell_type": "code",
   "execution_count": 35,
   "metadata": {},
   "outputs": [
    {
     "name": "stdout",
     "output_type": "stream",
     "text": [
      "01245"
     ]
    }
   ],
   "source": [
    "for x in range(7):\n",
    "    if (x!=3) and (x!=6):\n",
    "        print(x, end='')"
   ]
  },
  {
   "cell_type": "markdown",
   "metadata": {},
   "source": [
    "## 6) Write a Python program to get the Fibonacci series between 0 to 50."
   ]
  },
  {
   "cell_type": "code",
   "execution_count": 46,
   "metadata": {},
   "outputs": [
    {
     "name": "stdout",
     "output_type": "stream",
     "text": [
      "0 1 1 2 3 5 8 13 21 34 55 89 144 233 377 610 987 1597 2584 4181 6765 10946 17711 28657 46368 75025 121393 196418 317811 514229 "
     ]
    }
   ],
   "source": [
    "def f(n):\n",
    "    if n ==0:\n",
    "        return 0\n",
    "    elif n ==1:\n",
    "        return 1\n",
    "    else: return f(n-1) + f(n-2)\n",
    "for x in range(30):\n",
    "    print(f(x), end=' ')"
   ]
  },
  {
   "cell_type": "markdown",
   "metadata": {},
   "source": [
    "## 7) Write a Python program which iterates the integers from 1 to 50. For multiples of three print \"Fizz\" instead of the number and for the multiples of five print \"Buzz\". For numbers which are multiples of both three and five print \"FizzBuzz\"."
   ]
  },
  {
   "cell_type": "code",
   "execution_count": 1,
   "metadata": {},
   "outputs": [],
   "source": [
    "for x in range(1,51):\n",
    "    if (x%3 == 0) & (x%5==0):\n",
    "        print(\"FizzBizz\")\n",
    "    elif x%5 == 0:\n",
    "        print(\"Buzz\")\n",
    "    elif x%3 == 0:\n",
    "        print(\"Fizz\")\n",
    "    else:\n",
    "        print(x)"
   ]
  },
  {
   "cell_type": "markdown",
   "metadata": {},
   "source": [
    "## 8) Write a Python program that accepts a string and calculate the number of digits and letters"
   ]
  },
  {
   "cell_type": "code",
   "execution_count": 59,
   "metadata": {},
   "outputs": [
    {
     "name": "stdout",
     "output_type": "stream",
     "text": [
      "Enter a string with numbers: jh765fg43&8.MnF\n",
      "Entered string has 6 digits and 7 letters.\n"
     ]
    }
   ],
   "source": [
    "string = input(\"Enter a string with numbers: \")\n",
    "string = ''.join(e for e in string if e.isalnum())\n",
    "string = list(string)\n",
    "\n",
    "digits = []\n",
    "letters = []\n",
    "for x in string:\n",
    "    if x.isdigit():\n",
    "        digits.append(x)\n",
    "    else:\n",
    "        letters.append(x)\n",
    "print(\"Entered string has %d digits and %d letters.\" %(len(digits), len(letters)))"
   ]
  },
  {
   "cell_type": "markdown",
   "metadata": {},
   "source": [
    "## 9)  Write a Python program to check the validity of password input by users. At least 1 letter between [a-z] and 1 letter between [A-Z]. At least 1 number between [0-9]. At least 1 character from [^-%]. Minimum length 6 characters. Maximum length 16 characters."
   ]
  },
  {
   "cell_type": "code",
   "execution_count": 26,
   "metadata": {},
   "outputs": [
    {
     "name": "stdout",
     "output_type": "stream",
     "text": [
      "Enter a password: dgthgfdswaqwerfgtjkuhgtfrdswaqhjbbgvfde\n",
      "Your password needs at least 1 uppercase.\n",
      "Your password needs at least 1 number.\n",
      "Your password needs at least 1 special character.\n",
      "Maximum 16 characters are allowed\n"
     ]
    }
   ],
   "source": [
    "password = input('Enter a password: ')\n",
    "pass_list = list(password)\n",
    "errors = []\n",
    "character = ['#','$','@']\n",
    "if not any(x.isupper() for x in password):\n",
    "    errors.append('Your password needs at least 1 uppercase.')\n",
    "if not any(x.islower() for x in password):\n",
    "    errors.append('Your password needs at least 1 lowercase.')\n",
    "if not any(x.isdigit() for x in password):\n",
    "    errors.append('Your password needs at least 1 number.')\n",
    "if not any(x in character for x in password):\n",
    "    errors.append('Your password needs at least 1 special character.')\n",
    "if not (len(password)>6):\n",
    "    errors.append('Password length must be greater than 6.')\n",
    "if not (len(password)<17):\n",
    "    errors.append('Maximum 16 characters are allowed')\n",
    "for x in errors:\n",
    "    print(x,end='\\n')"
   ]
  },
  {
   "cell_type": "markdown",
   "metadata": {},
   "source": [
    "## Write a Python program to check a string represent an integer or not. "
   ]
  },
  {
   "cell_type": "code",
   "execution_count": 1,
   "metadata": {
    "scrolled": false
   },
   "outputs": [
    {
     "name": "stdout",
     "output_type": "stream",
     "text": [
      "Enter a string: gth\n"
     ]
    },
    {
     "data": {
      "text/plain": [
       "False"
      ]
     },
     "execution_count": 1,
     "metadata": {},
     "output_type": "execute_result"
    }
   ],
   "source": [
    "string = input(\"Enter a string: \")\n",
    "string.isdigit()"
   ]
  },
  {
   "cell_type": "markdown",
   "metadata": {},
   "source": [
    "## Write a Python function to sum all the numbers in a list."
   ]
  },
  {
   "cell_type": "code",
   "execution_count": 68,
   "metadata": {},
   "outputs": [
    {
     "name": "stdout",
     "output_type": "stream",
     "text": [
      "Enter three numbers: 4,5,6\n",
      "Sum of numbers 15.0\n"
     ]
    }
   ],
   "source": [
    "def sum1(a):\n",
    "    add = 0\n",
    "    for x in a:\n",
    "        add+=x\n",
    "    return add\n",
    "numbers = input(\"Enter three numbers: \")\n",
    "numbers = [float(s) for s in numbers.split(',')]\n",
    "print(\"Sum of numbers %s\" %(str(sum1(numbers))))"
   ]
  },
  {
   "cell_type": "markdown",
   "metadata": {},
   "source": [
    "## Write a Python function to multiply all the numbers in a list."
   ]
  },
  {
   "cell_type": "code",
   "execution_count": 70,
   "metadata": {},
   "outputs": [
    {
     "name": "stdout",
     "output_type": "stream",
     "text": [
      "Enter three numbers: 5.6,0,4\n",
      "Multiplication on numbers is 0.0\n"
     ]
    }
   ],
   "source": [
    "def multiply(a):\n",
    "    value = 1\n",
    "    for x in a:\n",
    "        value*=x\n",
    "    return value\n",
    "numbers = input(\"Enter three numbers: \")\n",
    "numbers = [float(s) for s in numbers.split(',')]\n",
    "print(\"Multiplication on numbers is %s\" %(str(multiply(numbers))))"
   ]
  },
  {
   "cell_type": "markdown",
   "metadata": {},
   "source": [
    "## Write a Python function to calculate the factorial of a number (a non-negative integer). "
   ]
  },
  {
   "cell_type": "code",
   "execution_count": 79,
   "metadata": {},
   "outputs": [
    {
     "name": "stdout",
     "output_type": "stream",
     "text": [
      "Enter a number to find the factorial: 5\n",
      "Factorial of 5 is 120\n"
     ]
    }
   ],
   "source": [
    "def factorial(n):\n",
    "    if n==0: return 1\n",
    "    elif n==1: return 1\n",
    "    else: return n*factorial(n-1)\n",
    "number=int(input('Enter a number to find the factorial: '))\n",
    "print(\"Factorial of %d is %d\"%(number, factorial(number)))"
   ]
  },
  {
   "cell_type": "markdown",
   "metadata": {},
   "source": [
    "### Write a Python function that takes a list and returns a new list with unique elements of the first list."
   ]
  },
  {
   "cell_type": "code",
   "execution_count": 4,
   "metadata": {},
   "outputs": [
    {
     "name": "stdout",
     "output_type": "stream",
     "text": [
      "Enter the elements, comma separated: d,f,g,5,6,g,f,de\n",
      "{'g', 'd', 'f', '5', 'de', '6'}\n"
     ]
    }
   ],
   "source": [
    "def list_input(a):\n",
    "    return set(a)\n",
    "usr = input(\"Enter the elements, comma separated: \")\n",
    "usr = [x for x in usr.split(',')]\n",
    "# usr = list(map(int, list_input(usr)))\n",
    "# print(usr)\n",
    "print(list_input(usr))"
   ]
  },
  {
   "cell_type": "markdown",
   "metadata": {},
   "source": [
    "## Write a Python program to print alphabet pattern 'A'."
   ]
  },
  {
   "cell_type": "code",
   "execution_count": 40,
   "metadata": {},
   "outputs": [
    {
     "name": "stdout",
     "output_type": "stream",
     "text": [
      "  ###  \n",
      " #   # \n",
      " #   # \n",
      " ##### \n",
      " #   # \n",
      " #   # \n",
      " #   # \n",
      "\n"
     ]
    }
   ],
   "source": [
    "result_str=\"\";    \n",
    "for row in range(0,7):    \n",
    "    for column in range(0,7):     \n",
    "        if (((column == 1 or column == 5) and row != 0) or \n",
    "            ((row == 0 or row == 3) and (column > 1 and column < 5))):    \n",
    "            result_str=result_str + \"#\"    \n",
    "        else:      \n",
    "            result_str=result_str + \" \"    \n",
    "    result_str=result_str+\"\\n\"    \n",
    "print(result_str);"
   ]
  },
  {
   "cell_type": "markdown",
   "metadata": {},
   "source": [
    "## Write a Python program to print alphabet pattern 'D'."
   ]
  },
  {
   "cell_type": "code",
   "execution_count": 39,
   "metadata": {},
   "outputs": [
    {
     "name": "stdout",
     "output_type": "stream",
     "text": [
      " $$$$  \n",
      " $   $ \n",
      " $   $ \n",
      " $   $ \n",
      " $   $ \n",
      " $   $ \n",
      " $$$$  \n",
      "\n"
     ]
    }
   ],
   "source": [
    "result_str=\"\";    \n",
    "for row in range(0,7):    \n",
    "    for column in range(0,7):     \n",
    "        if (column == 1 or ((row == 0 or row == 6) and (column > 1 and column < 5)) or (column == 5 and row != 0 and row != 6)):  \n",
    "            result_str=result_str+\"$\"    \n",
    "        else:      \n",
    "            result_str=result_str+\" \"    \n",
    "    result_str=result_str+\"\\n\"    \n",
    "print(result_str);"
   ]
  },
  {
   "cell_type": "markdown",
   "metadata": {},
   "source": [
    "## Write a Python program to print alphabet pattern 'E'."
   ]
  },
  {
   "cell_type": "code",
   "execution_count": 38,
   "metadata": {},
   "outputs": [
    {
     "name": "stdout",
     "output_type": "stream",
     "text": [
      " @@@@@ \n",
      " @     \n",
      " @     \n",
      " @@@@  \n",
      " @     \n",
      " @     \n",
      " @@@@@ \n",
      "\n"
     ]
    }
   ],
   "source": [
    "result_str=\"\";    \n",
    "for row in range(0,7):    \n",
    "    for column in range(0,7):     \n",
    "        if (column == 1 or ((row == 0 or row == 6) and (column > 1 and column < 6)) or (row == 3 and column > 1 and column < 5)):  \n",
    "            result_str=result_str+\"@\"    \n",
    "        else:      \n",
    "            result_str=result_str+\" \"    \n",
    "    result_str=result_str+\"\\n\"    \n",
    "print(result_str);"
   ]
  },
  {
   "cell_type": "markdown",
   "metadata": {},
   "source": [
    "## Write a Python program to check whether an alphabet is a vowel or consonant."
   ]
  },
  {
   "cell_type": "code",
   "execution_count": 43,
   "metadata": {},
   "outputs": [
    {
     "name": "stdout",
     "output_type": "stream",
     "text": [
      "Enter an alphabet: d\n",
      "d is consonant.\n"
     ]
    }
   ],
   "source": [
    "vowels = ['a','e','i','o','u']\n",
    "alphabet = input(\"Enter an alphabet: \")\n",
    "alphabet = alphabet.lower()\n",
    "if not alphabet in vowels:\n",
    "    print(\"%s is consonant.\"%alphabet)\n",
    "else:\n",
    "    print(\"%s is vowel.\"%alphabet)"
   ]
  },
  {
   "cell_type": "markdown",
   "metadata": {},
   "source": [
    "## Write a Python program to check a triangle is equilateral, isosceles or scalene. An equilateral triangle is a triangle in which all three sides are equal. A scalene triangle is a triangle that has three unequal sides. An isosceles triangle is a triangle with (at least) two equal sides."
   ]
  },
  {
   "cell_type": "code",
   "execution_count": 63,
   "metadata": {},
   "outputs": [
    {
     "name": "stdout",
     "output_type": "stream",
     "text": [
      "Enter three sides of a triangle: 1 1 1\n",
      "Equilateral triangle\n"
     ]
    }
   ],
   "source": [
    "a = input(\"Enter three sides of a triangle: \")\n",
    "b = a.split(\" \")\n",
    "b = [float(i) for i in b]\n",
    "\n",
    "def test_triangle(c):\n",
    "    d = set(c)\n",
    "    if (len(d)==1):\n",
    "        return \"Equilateral triangle\"\n",
    "    elif (len(d) == 2):\n",
    "        return \"Isosceles triangle\"\n",
    "    else:\n",
    "        return \"Scalene triangle\"\n",
    "\n",
    "print(test_triangle(b))"
   ]
  },
  {
   "cell_type": "markdown",
   "metadata": {},
   "source": [
    "## Write a Python function to find the Max of three numbers."
   ]
  },
  {
   "cell_type": "code",
   "execution_count": 76,
   "metadata": {},
   "outputs": [
    {
     "name": "stdout",
     "output_type": "stream",
     "text": [
      "Enter three numbers: 3.456 5.675 4.3423\n",
      "Max number is 5.670000\n"
     ]
    }
   ],
   "source": [
    "a = input(\"Enter three numbers: \")\n",
    "b = a.split(\" \")\n",
    "b = [float(i) for i in b]\n",
    "\n",
    "print(\"Max number is %f\"%(round(max(b),2)))"
   ]
  },
  {
   "cell_type": "markdown",
   "metadata": {},
   "source": [
    "## Write a Python function that takes a number as a parameter and check the number is prime or not"
   ]
  },
  {
   "cell_type": "code",
   "execution_count": 84,
   "metadata": {},
   "outputs": [
    {
     "name": "stdout",
     "output_type": "stream",
     "text": [
      "Enter a number: 1\n",
      "1 is a prime number.\n"
     ]
    }
   ],
   "source": [
    "a = int(input(\"Enter a number: \"))\n",
    "if a > 1:\n",
    "    for i in range(2, a):\n",
    "        if (a%i)==0:\n",
    "            print (\"%d is not a prime number.\" %a)\n",
    "            break\n",
    "        else:\n",
    "            print (\"%d is a prime number.\" %a)\n",
    "            break\n",
    "else:\n",
    "    print (\"%d is a prime number.\" %a)"
   ]
  }
 ],
 "metadata": {
  "kernelspec": {
   "display_name": "python37",
   "language": "python",
   "name": "python37"
  },
  "language_info": {
   "codemirror_mode": {
    "name": "ipython",
    "version": 3
   },
   "file_extension": ".py",
   "mimetype": "text/x-python",
   "name": "python",
   "nbconvert_exporter": "python",
   "pygments_lexer": "ipython3",
   "version": "3.7.0"
  }
 },
 "nbformat": 4,
 "nbformat_minor": 2
}
