{
 "cells": [
  {
   "cell_type": "markdown",
   "metadata": {},
   "source": [
    "How to import pandas and check the version?\n",
    "\n",
    "How to create a series from a list, numpy array and dict?\n",
    "\n",
    "\n",
    "How to convert the index of a series into a column of a dataframe?\n",
    "\n",
    "\n",
    "How to combine many series to form a dataframe?\n",
    "\n",
    "\n",
    "How to assign name to the series’ index?\n",
    "\n",
    "How to get the items of series A not present in series B?\n",
    "\n",
    "How to get the items not common to both series A and series B?\n",
    "\n",
    "\n",
    "How to get the minimum, 25th percentile, median, 75th, and max of a numeric series?\n",
    "\n",
    "How to get frequency counts of unique items of a series?\n",
    "\n",
    "How to keep only top 2 most frequent values as it is and replace everything else as ‘Other’?\n",
    "\n",
    "How to bin a numeric series to 10 groups of equal size?\n",
    "\n",
    "\n",
    "How to convert a numpy array to a dataframe of given shape? "
   ]
  }
 ],
 "metadata": {
  "kernelspec": {
   "display_name": "Python [conda root]",
   "language": "python",
   "name": "conda-root-py"
  },
  "language_info": {
   "codemirror_mode": {
    "name": "ipython",
    "version": 3
   },
   "file_extension": ".py",
   "mimetype": "text/x-python",
   "name": "python",
   "nbconvert_exporter": "python",
   "pygments_lexer": "ipython3",
   "version": "3.5.4"
  },
  "toc": {
   "base_numbering": 1,
   "nav_menu": {},
   "number_sections": true,
   "sideBar": true,
   "skip_h1_title": false,
   "title_cell": "Table of Contents",
   "title_sidebar": "Contents",
   "toc_cell": false,
   "toc_position": {},
   "toc_section_display": true,
   "toc_window_display": false
  }
 },
 "nbformat": 4,
 "nbformat_minor": 2
}
