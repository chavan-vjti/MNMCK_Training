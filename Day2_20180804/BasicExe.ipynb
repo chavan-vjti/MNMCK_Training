{
 "cells": [
  {
   "cell_type": "markdown",
   "metadata": {},
   "source": [
    "Interaction. Using a system command line, IDLE, or any other method that works on your platform, start the Python interactive command line (>>> prompt), and type the expression \"Hello World!\" (including the quotes)."
   ]
  },
  {
   "cell_type": "markdown",
   "metadata": {},
   "source": [
    "Programs.Withthetexteditorofyourchoice,writeasimplemodulefilecontaining the single statement print('Hello module world!') and store it as module1.py."
   ]
  },
  {
   "cell_type": "markdown",
   "metadata": {},
   "source": [
    "Experiment with typing mathematical expressions and as- signments at the Python interactive command line. Along the way, type the ex- pressions 2 ** 500 and 1 / 0,"
   ]
  },
  {
   "cell_type": "markdown",
   "metadata": {},
   "source": [
    "import math and random funcation take help(? and ??) on that and try to call multiple operations\n",
    "use dir on math and find out whats the output\n",
    "use help funcation to understad more about math and random and explain "
   ]
  },
  {
   "cell_type": "markdown",
   "metadata": {},
   "source": [
    "Assing pi to one of the variable and divide the same by 3.14 whats the output\n",
    "try to execute at least 3 funcation from math "
   ]
  },
  {
   "cell_type": "markdown",
   "metadata": {},
   "source": [
    "Try to use random module and gernerate random number"
   ]
  },
  {
   "cell_type": "markdown",
   "metadata": {},
   "source": [
    "# String Exe \n",
    "\n",
    "create string as -- \"my name is -  and i am working with compony -\"\n",
    "extrat your name and compony name from string \n",
    "\n",
    "take the help on different string operations , explain at least 3 out of them \n",
    "reverse the name and compony name \n",
    "\n",
    "join first 3 letters of both , then reverse the same\n",
    "\n",
    "prove immutability of String\n",
    "\n",
    "Create a string of your choice and find char seq in the same - hint - use find  and explain the output\n",
    "\n",
    "use replace method and expalin , try to print original string \n",
    "\n",
    "create ',' seperated string , use split and explain output\n",
    "\n",
    "use upper and lower methods\n",
    "\n",
    "use isalpha , isdigit and explain the output\n",
    "\n",
    "use %s and %d for formating for any sample value"
   ]
  },
  {
   "cell_type": "markdown",
   "metadata": {},
   "source": [
    "# List Exe\n",
    "Create list with differet combination of object, find out elements from list at different location , use range to get multiple element \n",
    "\n",
    "take help and expalin function at least 3 by each\n",
    "\n",
    "use addition and multiplication symbol for list\n",
    "\n",
    "use append \n",
    "\n",
    "use pop \n",
    "\n",
    "sort list - hint use sort fun\n",
    "\n",
    "reverse the list "
   ]
  },
  {
   "cell_type": "markdown",
   "metadata": {},
   "source": [
    "# dictionaries Exe\n",
    "Create dic , add number of elements , retrive elements by key\n",
    "\n",
    "take help , explain 3 methods each \n",
    "\n",
    "get keys of dic \n",
    "\n",
    "create list of keys\n",
    "\n",
    "sort the key list\n"
   ]
  },
  {
   "cell_type": "markdown",
   "metadata": {},
   "source": [
    "# Tuple Exe\n",
    "Create Tuple\n",
    "\n",
    "Get elements of Tuple\n",
    "\n",
    "Add tuple to tuple\n",
    "\n",
    "use index method\n",
    "\n",
    "use count method\n",
    "\n",
    "explain 3 methods each"
   ]
  },
  {
   "cell_type": "markdown",
   "metadata": {},
   "source": [
    "# File Exe\n",
    "Create file \n",
    "\n",
    "write 4 lines in file\n",
    "\n",
    "read file\n",
    "\n",
    "split text\n",
    "\n",
    "create new file\n",
    "\n",
    "open file \n",
    "\n",
    "merage two file data and create new file\n",
    "\n",
    "# Variable , Object \n",
    "\n",
    "### Consider the following three statements. Do they change the value printed for A?\n",
    "\n",
    "A = \"spam\"\n",
    "\n",
    "B= A\n",
    "\n",
    "B = \"shrubbery\"\n",
    "\n",
    "### Consider these three statements. Do they change the printed value of A?\n",
    "\n",
    "A = [\"spam\"]\n",
    "\n",
    "B= A\n",
    "\n",
    "B[0] = \"shrubbery\"\n",
    "\n",
    "### How about these—is A changed now?\n",
    "\n",
    "A = [\"spam\"]\n",
    "\n",
    "B = A[:]\n",
    "\n",
    "B[0] = \"shrubbery\"\n",
    "\n",
    "\n"
   ]
  },
  {
   "cell_type": "code",
   "execution_count": null,
   "metadata": {
    "collapsed": true
   },
   "outputs": [],
   "source": []
  }
 ],
 "metadata": {
  "kernelspec": {
   "display_name": "Python [conda root]",
   "language": "python",
   "name": "conda-root-py"
  },
  "language_info": {
   "codemirror_mode": {
    "name": "ipython",
    "version": 3
   },
   "file_extension": ".py",
   "mimetype": "text/x-python",
   "name": "python",
   "nbconvert_exporter": "python",
   "pygments_lexer": "ipython3",
   "version": "3.5.4"
  },
  "toc": {
   "base_numbering": 1,
   "nav_menu": {},
   "number_sections": true,
   "sideBar": true,
   "skip_h1_title": false,
   "title_cell": "Table of Contents",
   "title_sidebar": "Contents",
   "toc_cell": false,
   "toc_position": {},
   "toc_section_display": true,
   "toc_window_display": false
  }
 },
 "nbformat": 4,
 "nbformat_minor": 2
}
