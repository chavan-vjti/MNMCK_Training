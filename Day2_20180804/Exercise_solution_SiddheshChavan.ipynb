{
 "cells": [
  {
   "cell_type": "markdown",
   "metadata": {},
   "source": [
    "### The volume of a sphere with radius r is 4 πr3. What is the volume of a sphere with radius 5?"
   ]
  },
  {
   "cell_type": "code",
   "execution_count": 22,
   "metadata": {},
   "outputs": [
    {
     "name": "stdout",
     "output_type": "stream",
     "text": [
      "Volume of spehere is 523.00\n"
     ]
    }
   ],
   "source": [
    "r = 5\n",
    "volume = (4 *3.14* r**3) // 3\n",
    "print('Volume of spehere is %.2f' %volume)"
   ]
  },
  {
   "cell_type": "markdown",
   "metadata": {},
   "source": [
    "### Suppose the cover price of a book is $24.95, but bookstores get a 40% discount. Shipping costs $3 for the first copy and 75 cents for each additional copy. What is the total wholesale cost for 60 copies?"
   ]
  },
  {
   "cell_type": "code",
   "execution_count": 32,
   "metadata": {},
   "outputs": [
    {
     "name": "stdout",
     "output_type": "stream",
     "text": [
      "Wholesale cost $159.45\n"
     ]
    }
   ],
   "source": [
    "cover_price = 24.95\n",
    "discount = 0.4\n",
    "first_ship = 3\n",
    "second_ship = 0.75\n",
    "copies = 10\n",
    "total = copies * cover_price * (1 - discount) + first_ship + (copies - 1) * second_ship\n",
    "print(\"Wholesale cost $%.2f\" %total )"
   ]
  },
  {
   "cell_type": "markdown",
   "metadata": {},
   "source": [
    "### If I leave my house at 6:52 am and run 1 mile at an easy pace (8:15 per mile), then 3 miles at tempo (7:12 per mile) and 1 mile at easy pace again, what time do I get home for breakfast?"
   ]
  },
  {
   "cell_type": "code",
   "execution_count": 19,
   "metadata": {},
   "outputs": [],
   "source": []
  },
  {
   "cell_type": "markdown",
   "metadata": {},
   "source": [
    "### Write a Python program to accept a filename from the user and print the extension of that."
   ]
  },
  {
   "cell_type": "code",
   "execution_count": 27,
   "metadata": {},
   "outputs": [
    {
     "name": "stdout",
     "output_type": "stream",
     "text": [
      "write filename: sid.txt\n",
      "Extension of file is .txt\n"
     ]
    }
   ],
   "source": [
    "a = input('write filename: ')\n",
    "b = a.split('.')\n",
    "print(\"Extension of file is .%s\" %b[-1])"
   ]
  },
  {
   "cell_type": "markdown",
   "metadata": {},
   "source": [
    "### Write a Python program which accepts a sequence of comma-separated numbers from user and generate a list and a tuple with those numbers. "
   ]
  },
  {
   "cell_type": "code",
   "execution_count": 33,
   "metadata": {},
   "outputs": [
    {
     "name": "stdout",
     "output_type": "stream",
     "text": [
      "Type numbers comma separated: 4,5,6\n",
      "['4', '5', '6']\n",
      "('4', '5', '6')\n"
     ]
    }
   ],
   "source": [
    "a = input('Type numbers comma separated: ')\n",
    "b = a.split(',')\n",
    "c = tuple(b)\n",
    "print(b)\n",
    "print(c)"
   ]
  },
  {
   "cell_type": "markdown",
   "metadata": {},
   "source": [
    "### Write a Python program to display the first and last colors from the following list.\n",
    "\n",
    "### Color_list = [\"Red\",\"Green\",\"White\" ,\"Black\"]"
   ]
  },
  {
   "cell_type": "code",
   "execution_count": 35,
   "metadata": {},
   "outputs": [
    {
     "name": "stdout",
     "output_type": "stream",
     "text": [
      "Red\n",
      "Black\n"
     ]
    }
   ],
   "source": [
    "Color_list = [\"Red\",\"Green\",\"White\" ,\"Black\"]\n",
    "print(Color_list[0])\n",
    "print(Color_list[-1])"
   ]
  },
  {
   "cell_type": "markdown",
   "metadata": {},
   "source": [
    "### Take two lists, say for example these two:\n",
    "### a = [1, 1, 2, 3, 5, 8, 13, 21, 34, 55, 89] \n",
    "\n",
    "### b = [1, 2, 3, 4, 5, 6, 7, 8, 9, 10, 11, 12, 13]\n",
    "\n",
    "### and write a program that returns a list that contains only the elements that are common between the lists (without duplicates). Make sure your program works on two lists of different sizes.\n",
    "\n",
    "### Randomly generate two lists to test this"
   ]
  },
  {
   "cell_type": "code",
   "execution_count": 40,
   "metadata": {},
   "outputs": [
    {
     "data": {
      "text/plain": [
       "{1, 2, 3, 5, 8, 13, 89}"
      ]
     },
     "execution_count": 40,
     "metadata": {},
     "output_type": "execute_result"
    }
   ],
   "source": [
    "a = [1, 1, 2, 3, 5, 8, 13, 21, 34, 55, 89]\n",
    "b = [1, 2, 3, 4, 5, 6, 7, 8, 9, 10, 11, 12, 13, 56, 89]\n",
    "a = set(a)\n",
    "b = set(b)\n",
    "c = a & b\n",
    "c"
   ]
  },
  {
   "cell_type": "markdown",
   "metadata": {},
   "source": [
    "### Take a list, say for example this one:\n",
    "\n",
    "### a = [1, 1, 2, 3, 5, 8, 13, 21, 34, 55, 89]\n",
    "### and write a program that prints out all the elements of the list that are less than 5.\n",
    "\n",
    "### Instead of printing the elements one by one, make a new list that has all the elements less than 5 from this list in it and print out this new list."
   ]
  },
  {
   "cell_type": "code",
   "execution_count": 50,
   "metadata": {},
   "outputs": [
    {
     "data": {
      "text/plain": [
       "list"
      ]
     },
     "execution_count": 50,
     "metadata": {},
     "output_type": "execute_result"
    }
   ],
   "source": [
    "a = [1, 1, 2, 3, 5, 8, 13, 21, 34, 55, 89]\n",
    "b = sorted(x for x in a if x<5)\n",
    "b"
   ]
  },
  {
   "cell_type": "markdown",
   "metadata": {},
   "source": [
    "### Create a program that asks the user to enter their name and their age. Print out a message addressed to them that tells them the year that they will turn 100 years old."
   ]
  },
  {
   "cell_type": "code",
   "execution_count": 57,
   "metadata": {},
   "outputs": [
    {
     "name": "stdout",
     "output_type": "stream",
     "text": [
      "Enter name: sid\n",
      "Enter age: 50\n",
      "At 2068, you will turn 100 years old.\n"
     ]
    }
   ],
   "source": [
    "name = input('Enter name: ')\n",
    "age = int(input('Enter age: '))\n",
    "remaining = 100 - age\n",
    "hundred = 2018 + remaining\n",
    "print('At %d, you will turn 100 years old.' %hundred)"
   ]
  },
  {
   "cell_type": "markdown",
   "metadata": {},
   "source": [
    "### Write a Python program to calculate the length of a string"
   ]
  },
  {
   "cell_type": "code",
   "execution_count": 58,
   "metadata": {},
   "outputs": [
    {
     "data": {
      "text/plain": [
       "15"
      ]
     },
     "execution_count": 58,
     "metadata": {},
     "output_type": "execute_result"
    }
   ],
   "source": [
    "a = 'python training'\n",
    "len(a)"
   ]
  },
  {
   "cell_type": "markdown",
   "metadata": {},
   "source": [
    "### Write a Python program to count the number of characters (character frequency) in a string– sample data – ‘my name is mumbai’"
   ]
  },
  {
   "cell_type": "code",
   "execution_count": 75,
   "metadata": {
    "scrolled": false
   },
   "outputs": [
    {
     "name": "stdout",
     "output_type": "stream",
     "text": [
      "Help on built-in function count:\n",
      "\n",
      "count(...) method of builtins.str instance\n",
      "    S.count(sub[, start[, end]]) -> int\n",
      "    \n",
      "    Return the number of non-overlapping occurrences of substring sub in\n",
      "    string S[start:end].  Optional arguments start and end are\n",
      "    interpreted as in slice notation.\n",
      "\n"
     ]
    }
   ],
   "source": [
    "s = 'my name is mumbai'\n",
    "s.count(0:-1)"
   ]
  },
  {
   "cell_type": "markdown",
   "metadata": {},
   "source": [
    "### Write a Python program to get a string made of the first 2 and the last 2 chars from a given a string. If the string length is less than 2, return instead of the empty string.\n",
    "\n",
    "### Sample String : ‘SampleExersies'\n",
    "\n",
    "### Sample String : ‘sa'\n",
    "\n",
    "### Sample String : ‘ s’"
   ]
  },
  {
   "cell_type": "code",
   "execution_count": 23,
   "metadata": {},
   "outputs": [
    {
     "name": "stdout",
     "output_type": "stream",
     "text": [
      "Enter a string: dh\n",
      "dh\n"
     ]
    }
   ],
   "source": [
    "user_string = input('Enter a string: ')\n",
    "str_len = len(user_string)\n",
    "if str_len<3:\n",
    "    print(user_string)\n",
    "else:\n",
    "    print(\"%s%s\" %(user_string[0:2], user_string[-2:]))"
   ]
  },
  {
   "cell_type": "markdown",
   "metadata": {},
   "source": [
    "### Write a Python program to get a string from a given string where all occurrences of its first char have been changed to '$', except the first char itself."
   ]
  },
  {
   "cell_type": "code",
   "execution_count": 36,
   "metadata": {},
   "outputs": [
    {
     "name": "stdout",
     "output_type": "stream",
     "text": [
      "Enter a string: accomodation\n"
     ]
    },
    {
     "data": {
      "text/plain": [
       "'accomod$tion'"
      ]
     },
     "execution_count": 36,
     "metadata": {},
     "output_type": "execute_result"
    }
   ],
   "source": [
    "user_input = input('Enter a string: ')\n",
    "\"\".join((user_input[0], user_input[1:].replace(user_input[0], \"$\")))"
   ]
  },
  {
   "cell_type": "markdown",
   "metadata": {},
   "source": [
    "### Create a program that asks the user for a number and then prints out a list of all the divisors of that number. (If you don’t know what a divisor is, it is a number that divides evenly into another number. For example, 13 is a divisor of 26 because 26 / 13 has no remainder.)"
   ]
  },
  {
   "cell_type": "code",
   "execution_count": 42,
   "metadata": {},
   "outputs": [
    {
     "name": "stdout",
     "output_type": "stream",
     "text": [
      "Enter a number: 13\n",
      "[1, 13]\n"
     ]
    }
   ],
   "source": [
    "number = int(input('Enter a number: '))\n",
    "temp_list = [x for x in range(1,number+1) if number%x == 0]\n",
    "print(temp_list)"
   ]
  },
  {
   "cell_type": "markdown",
   "metadata": {},
   "source": [
    "### Write a Python program to calculate number of days between two dates."
   ]
  },
  {
   "cell_type": "code",
   "execution_count": 58,
   "metadata": {},
   "outputs": [
    {
     "name": "stdout",
     "output_type": "stream",
     "text": [
      "Enter first day DD-MM-YYYY: 09-08-2018\n",
      "Enter second day DD-MM-YYYY: 12-08-2018\n",
      "Days benween: 3\n"
     ]
    }
   ],
   "source": [
    "from datetime import datetime,date\n",
    "a = input('Enter first day DD-MM-YYYY: ')\n",
    "b = input('Enter second day DD-MM-YYYY: ')\n",
    "# date_str = '30-01-12'\n",
    "formatter_string = \"%d-%m-%Y\" \n",
    "c = datetime.strptime(a, formatter_string)\n",
    "d = datetime.strptime(b, formatter_string)\n",
    "date_object1 = c.date()\n",
    "date_object2 = d.date()\n",
    "e = (date_object2 - date_object1).days\n",
    "\n",
    "print(\"Days benween: %s\" %str(e))"
   ]
  },
  {
   "cell_type": "markdown",
   "metadata": {},
   "source": [
    "### Write a Python program to get the Python version you are using."
   ]
  },
  {
   "cell_type": "code",
   "execution_count": 61,
   "metadata": {},
   "outputs": [
    {
     "name": "stdout",
     "output_type": "stream",
     "text": [
      "3.7.0 (default, Jun 28 2018, 08:04:48) [MSC v.1912 64 bit (AMD64)]\n",
      "sys.version_info(major=3, minor=7, micro=0, releaselevel='final', serial=0)\n"
     ]
    }
   ],
   "source": [
    "import sys\n",
    "print (sys.version)\n",
    "print(sys.version_info)"
   ]
  },
  {
   "cell_type": "markdown",
   "metadata": {},
   "source": [
    "### Write a Python program to display the current date and time."
   ]
  }
 ],
 "metadata": {
  "kernelspec": {
   "display_name": "python37",
   "language": "python",
   "name": "python37"
  },
  "language_info": {
   "codemirror_mode": {
    "name": "ipython",
    "version": 3
   },
   "file_extension": ".py",
   "mimetype": "text/x-python",
   "name": "python",
   "nbconvert_exporter": "python",
   "pygments_lexer": "ipython3",
   "version": "3.7.0"
  }
 },
 "nbformat": 4,
 "nbformat_minor": 2
}
