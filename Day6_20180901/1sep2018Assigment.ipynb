{
 "cells": [
  {
   "cell_type": "markdown",
   "metadata": {},
   "source": [
    "\n",
    "\n",
    "\n",
    "\n",
    "\n",
    "\n",
    "\n",
    "\n",
    "\n",
    "\n",
    "\n",
    "\n",
    "\n",
    "\n",
    "Write a Python program to create a 2d array with 1 on the border and 0 inside\n",
    "\n",
    "Write a Python program to add a border (filled with 0's) around an existing array\n",
    "\n",
    " Write a Python program to create a 8x8 matrix and fill it with a checkerboard pattern\n",
    " \n",
    "Write a Python program to convert a list and tuple into arrays.\n",
    "\n",
    "Write a Python program to append values to the end of an array.\n",
    "\n",
    "Write a Python program to create an empty and a full array\n",
    "\n",
    "Write a Python program to convert the values of Centigrade degrees into Fahrenheit degrees. Centigrade values are stored into a NumPy array\n",
    "\n",
    "Write a Python program to find the real and imaginary parts of an array of complex numbers.\n",
    "\n",
    "Write a Python program to find common values between two arrays\n",
    "\n",
    "Write a Python program to find the union of two arrays. Union will return the unique, sorted array of values that are in either of the two input arrays.\n",
    "\n",
    "Write a Python program to find the set exclusive-or of two arrays. Set exclusive-or will return the sorted, unique values that are in only one (not both) of the input arrays. \n",
    "\n",
    "\n",
    "Write a Python program to create an array with 10^3 elements"
   ]
  },
  {
   "cell_type": "code",
   "execution_count": null,
   "metadata": {
    "collapsed": true
   },
   "outputs": [],
   "source": []
  }
 ],
 "metadata": {
  "kernelspec": {
   "display_name": "python37",
   "language": "python",
   "name": "python37"
  },
  "language_info": {
   "codemirror_mode": {
    "name": "ipython",
    "version": 3
   },
   "file_extension": ".py",
   "mimetype": "text/x-python",
   "name": "python",
   "nbconvert_exporter": "python",
   "pygments_lexer": "ipython3",
   "version": "3.7.0"
  },
  "toc": {
   "base_numbering": 1,
   "nav_menu": {},
   "number_sections": true,
   "sideBar": true,
   "skip_h1_title": false,
   "title_cell": "Table of Contents",
   "title_sidebar": "Contents",
   "toc_cell": false,
   "toc_position": {},
   "toc_section_display": true,
   "toc_window_display": false
  }
 },
 "nbformat": 4,
 "nbformat_minor": 2
}
