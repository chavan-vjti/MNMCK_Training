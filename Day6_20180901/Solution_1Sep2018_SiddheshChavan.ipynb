{
 "cells": [
  {
   "cell_type": "markdown",
   "metadata": {},
   "source": [
    "## Write a Python program to print the NumPy version in your system"
   ]
  },
  {
   "cell_type": "code",
   "execution_count": 2,
   "metadata": {},
   "outputs": [
    {
     "name": "stdout",
     "output_type": "stream",
     "text": [
      "NumPy version is 1.15.0 \n"
     ]
    }
   ],
   "source": [
    "import numpy as np\n",
    "print(\"NumPy version is %s \"%np.version.version)"
   ]
  },
  {
   "cell_type": "markdown",
   "metadata": {},
   "source": [
    "## Write a Python program to convert a list of numeric value into a one-dimensional NumPy array."
   ]
  },
  {
   "cell_type": "code",
   "execution_count": 17,
   "metadata": {},
   "outputs": [
    {
     "name": "stdout",
     "output_type": "stream",
     "text": [
      "Enter numeric values, comma separated: 3,4,5,6,7\n",
      "[3. 4. 5. 6. 7.]\n"
     ]
    }
   ],
   "source": [
    "ip_1 = input(\"Enter numeric values, comma separated: \")\n",
    "ip_2 = ip_1.split(',')\n",
    "ip_3 = list(map(float, ip_2))\n",
    "arr = np.zeros((len(ip_3)))\n",
    "for index, i in enumerate(ip_3):\n",
    "    arr[index] = i\n",
    "print(arr)"
   ]
  },
  {
   "cell_type": "markdown",
   "metadata": {},
   "source": [
    "## Create a 3x3 matrix with values ranging from 2 to 10"
   ]
  },
  {
   "cell_type": "code",
   "execution_count": 18,
   "metadata": {},
   "outputs": [
    {
     "name": "stdout",
     "output_type": "stream",
     "text": [
      "[[ 2  3  4]\n",
      " [ 5  6  7]\n",
      " [ 8  9 10]]\n"
     ]
    }
   ],
   "source": [
    "arr = np.arange(2,11).reshape(3,3)\n",
    "print(arr)"
   ]
  },
  {
   "cell_type": "markdown",
   "metadata": {},
   "source": [
    "## Write a Python program to create a null vector of size 10 and update sixth value to 11"
   ]
  },
  {
   "cell_type": "code",
   "execution_count": 61,
   "metadata": {},
   "outputs": [
    {
     "data": {
      "text/plain": [
       "array([ 0.,  0.,  0.,  0.,  0., 11.,  0.,  0.,  0.,  0.])"
      ]
     },
     "execution_count": 61,
     "metadata": {},
     "output_type": "execute_result"
    }
   ],
   "source": [
    "arr = np.empty(10)\n",
    "arr[5] = 11\n",
    "np.set_printoptions(suppress=True)\n",
    "arr"
   ]
  },
  {
   "cell_type": "markdown",
   "metadata": {},
   "source": [
    "## Write a Python program to create a array with values ranging from 12 to 38"
   ]
  },
  {
   "cell_type": "code",
   "execution_count": 24,
   "metadata": {},
   "outputs": [
    {
     "data": {
      "text/plain": [
       "array([[12, 13, 14, 15, 16, 17, 18, 19, 20, 21, 22, 23, 24],\n",
       "       [25, 26, 27, 28, 29, 30, 31, 32, 33, 34, 35, 36, 37]])"
      ]
     },
     "execution_count": 24,
     "metadata": {},
     "output_type": "execute_result"
    }
   ],
   "source": [
    "arr = np.arange(12,38).reshape(2,13)\n",
    "arr"
   ]
  },
  {
   "cell_type": "markdown",
   "metadata": {},
   "source": [
    "## Write a Python program to reverse an array (first element becomes last)."
   ]
  },
  {
   "cell_type": "code",
   "execution_count": 36,
   "metadata": {},
   "outputs": [
    {
     "name": "stdout",
     "output_type": "stream",
     "text": [
      "Enter numeric values, comma separated: 2,3,4,5,6\n",
      "Original array:\n",
      "[2. 3. 4. 5. 6.]\n",
      "\n",
      "\n",
      "Reversed array:\n",
      "[6. 5. 4. 3. 2.]\n"
     ]
    }
   ],
   "source": [
    "import numpy as np\n",
    "ip_1 = input(\"Enter numeric values, comma separated: \")\n",
    "ip_2 = ip_1.split(',')\n",
    "ip_3 = list(map(float, ip_2))\n",
    "ip_4 = np.array(ip_3)\n",
    "print('Original array:')\n",
    "print(ip_4)\n",
    "print('\\n')\n",
    "arr1_rev = np.empty(ip_4.shape)\n",
    "for index, i in enumerate(ip_4):\n",
    "    index+=1\n",
    "    arr1_rev[-index] = i\n",
    "print(\"Reversed array:\")\n",
    "print(arr1_rev)"
   ]
  },
  {
   "cell_type": "markdown",
   "metadata": {},
   "source": [
    "## Write a Python program to an array converted to a float type."
   ]
  },
  {
   "cell_type": "code",
   "execution_count": 13,
   "metadata": {},
   "outputs": [
    {
     "name": "stdout",
     "output_type": "stream",
     "text": [
      "Array in float values\n",
      "[[1.2 2.3 2.4]\n",
      " [4.5 0.5 0.6]]\n",
      "\n",
      "\n",
      "Array in integer values\n",
      "[[1 2 2]\n",
      " [4 0 0]]\n"
     ]
    }
   ],
   "source": [
    "arr = np.array([[1.2,2.3,2.4],[4.5,.5,.6]])\n",
    "print('Array in float values')\n",
    "print(arr)\n",
    "print('\\n')\n",
    "print('Array in integer values',)\n",
    "print(arr.astype(int))"
   ]
  },
  {
   "cell_type": "markdown",
   "metadata": {},
   "source": [
    "## Write a Python program to create a 2d array with 1 on the border and 0 inside"
   ]
  },
  {
   "cell_type": "code",
   "execution_count": 33,
   "metadata": {
    "scrolled": false
   },
   "outputs": [
    {
     "name": "stdout",
     "output_type": "stream",
     "text": [
      "Original array: \n",
      "[[0. 0. 0. 0. 0. 0.]\n",
      " [0. 0. 0. 0. 0. 0.]\n",
      " [0. 0. 0. 0. 0. 0.]\n",
      " [0. 0. 0. 0. 0. 0.]\n",
      " [0. 0. 0. 0. 0. 0.]\n",
      " [0. 0. 0. 0. 0. 0.]]\n",
      "\n",
      "\n",
      "Array after applying boarde: \n",
      "[[1. 1. 1. 1. 1. 1.]\n",
      " [1. 0. 0. 0. 0. 1.]\n",
      " [1. 0. 0. 0. 0. 1.]\n",
      " [1. 0. 0. 0. 0. 1.]\n",
      " [1. 0. 0. 0. 0. 1.]\n",
      " [1. 1. 1. 1. 1. 1.]]\n"
     ]
    }
   ],
   "source": [
    "arr3 = np.zeros((6,6))\n",
    "print(\"Original array: \")\n",
    "print(arr3)\n",
    "arr3[0] = np.ones(arr3.shape[1])\n",
    "arr3[-1] = np.ones(arr3.shape[1])\n",
    "i = 1\n",
    "while i < (arr3.shape[1]-1):\n",
    "    arr3[i][0] = 1\n",
    "    arr3[i][-1] = 1\n",
    "    i += 1\n",
    "print('\\n')\n",
    "print(\"Array after applying boarde: \")\n",
    "print(arr3)"
   ]
  },
  {
   "cell_type": "markdown",
   "metadata": {},
   "source": [
    "## Write a Python program to add a border (filled with 0's) around an existing array"
   ]
  },
  {
   "cell_type": "code",
   "execution_count": 76,
   "metadata": {},
   "outputs": [
    {
     "name": "stdout",
     "output_type": "stream",
     "text": [
      "Original array: \n",
      "[[1 2 3]\n",
      " [4 5 6]\n",
      " [7 8 9]]\n",
      "\n",
      "Broadcasting of arra:\n",
      "[[0 0 0 0 0]\n",
      " [0 1 2 3 0]\n",
      " [0 4 5 6 0]\n",
      " [0 7 8 9 0]\n",
      " [0 0 0 0 0]]\n"
     ]
    }
   ],
   "source": [
    "arr4 = np.arange(1,10).reshape((3,3))\n",
    "print(\"Original array: \")\n",
    "print(arr4, end='\\n\\n')\n",
    "arr5 = np.pad(arr4, pad_width=1, mode='constant', constant_values=0)\n",
    "print(\"Broadcasting of arra:\")\n",
    "print(arr5)"
   ]
  },
  {
   "cell_type": "markdown",
   "metadata": {},
   "source": [
    "## Write a Python program to create a 8x8 matrix and fill it with a checkerboard pattern"
   ]
  },
  {
   "cell_type": "code",
   "execution_count": 4,
   "metadata": {},
   "outputs": [
    {
     "name": "stdout",
     "output_type": "stream",
     "text": [
      "Enter the square order of matrix: 8\n",
      "Checkerboard pattern: \n",
      "[[0 1 0 1 0 1 0 1]\n",
      " [1 0 1 0 1 0 1 0]\n",
      " [0 1 0 1 0 1 0 1]\n",
      " [1 0 1 0 1 0 1 0]\n",
      " [0 1 0 1 0 1 0 1]\n",
      " [1 0 1 0 1 0 1 0]\n",
      " [0 1 0 1 0 1 0 1]\n",
      " [1 0 1 0 1 0 1 0]]\n"
     ]
    }
   ],
   "source": [
    "p = int(input(\"Enter the square order of matrix: \"))\n",
    "arr = np.ones((p,p), dtype='int32')\n",
    "\n",
    "arr[::2,::2] = 0\n",
    "arr[1::2,1::2] = 0\n",
    "print(\"Checkerboard pattern: \")\n",
    "print(arr)"
   ]
  },
  {
   "cell_type": "markdown",
   "metadata": {},
   "source": [
    "## Write a Python program to convert a list and tuple into arrays."
   ]
  },
  {
   "cell_type": "code",
   "execution_count": 86,
   "metadata": {},
   "outputs": [
    {
     "name": "stdout",
     "output_type": "stream",
     "text": [
      "List is [1, 2, 3, 4]\n",
      "List to array is [1 2 3 4]\n",
      "Tuple is ((1, 2, 3, 4), (5, 6, 7, 8))\n",
      "Tuple to array is [[1 2 3 4]\n",
      " [5 6 7 8]]\n"
     ]
    }
   ],
   "source": [
    "a = [1,2,3,4]\n",
    "print(\"List is \", end=\"\")\n",
    "print(a)\n",
    "\n",
    "a = np.asarray(a)\n",
    "print(\"List to array is \", end=\"\")\n",
    "print(a)\n",
    "\n",
    "b = ((1,2,3,4),(5,6,7,8))\n",
    "print(\"Tuple is \", end=\"\")\n",
    "print(b)\n",
    "b = np.asarray(b)\n",
    "print(\"Tuple to array is \", end=\"\")\n",
    "print(b)"
   ]
  },
  {
   "cell_type": "markdown",
   "metadata": {},
   "source": [
    "## Write a Python program to append values to the end of an array."
   ]
  },
  {
   "cell_type": "code",
   "execution_count": 93,
   "metadata": {},
   "outputs": [
    {
     "name": "stdout",
     "output_type": "stream",
     "text": [
      "Original array is [[0 1 2]\n",
      " [3 4 5]\n",
      " [6 7 8]]\n"
     ]
    },
    {
     "data": {
      "text/plain": [
       "array([[ 0,  1,  2],\n",
       "       [ 3,  4,  5],\n",
       "       [ 6,  7,  8],\n",
       "       [ 9, 10, 11]])"
      ]
     },
     "execution_count": 93,
     "metadata": {},
     "output_type": "execute_result"
    }
   ],
   "source": [
    "arr2 = np.arange(9).reshape(3,3)\n",
    "print(\"Original array is \", end=\"\")\n",
    "\n",
    "print(arr2)\n",
    "np.append(arr2,[[9,10,11]], axis=0)"
   ]
  },
  {
   "cell_type": "markdown",
   "metadata": {},
   "source": [
    "## Write a Python program to create an empty and a full array"
   ]
  },
  {
   "cell_type": "code",
   "execution_count": 108,
   "metadata": {},
   "outputs": [
    {
     "name": "stdout",
     "output_type": "stream",
     "text": [
      "Empty array is \n",
      "[[ 0.00000000e+000  0.00000000e+000  0.00000000e+000  0.00000000e+000]\n",
      " [ 0.00000000e+000  0.00000000e+000  0.00000000e+000  4.44659081e-322]\n",
      " [-2.68156159e+154 -2.00390401e+000 -2.68156159e+154 -2.32036231e+077]\n",
      " [ 1.97626258e-323  0.00000000e+000  0.00000000e+000  0.00000000e+000]]\n",
      "\n",
      "Full array is \n",
      "[[10 10 10]\n",
      " [10 10 10]\n",
      " [10 10 10]]\n"
     ]
    }
   ],
   "source": [
    "arr = np.empty((4,4))\n",
    "np.set_printoptions(suppress=True)\n",
    "print(\"Empty array is \")\n",
    "print(arr, end='\\n\\n')\n",
    "arr2 = np.full((3,3),10)\n",
    "print(\"Full array is \")\n",
    "print(arr2)"
   ]
  },
  {
   "cell_type": "markdown",
   "metadata": {},
   "source": [
    "## Write a Python program to convert the values of Centigrade degrees into Fahrenheit degrees. Centigrade values are stored into a NumPy array"
   ]
  },
  {
   "cell_type": "code",
   "execution_count": 116,
   "metadata": {},
   "outputs": [
    {
     "name": "stdout",
     "output_type": "stream",
     "text": [
      "Temperatures is degress is: \n",
      "[[ 10.    11.2    5.6 ]\n",
      " [  5.4   78.6   45.67]\n",
      " [ 45.6   76.4  -56.7 ]]\n",
      "\n",
      "Equivalent temperatures if Fahrenhite is: \n",
      "[[ 50.     52.16   42.08 ]\n",
      " [ 41.72  173.48  114.206]\n",
      " [114.08  169.52  -70.06 ]]\n"
     ]
    }
   ],
   "source": [
    "arr = np.array([[10,11.2,5.6],[5.4,78.6,45.67],[45.6,76.4,-56.7]])\n",
    "print(\"Temperatures is degress is: \")\n",
    "print(arr, end='\\n\\n')\n",
    "fahre = arr*(9/5) + 32\n",
    "print(\"Equivalent temperatures if Fahrenhite is: \")\n",
    "print(fahre)"
   ]
  },
  {
   "cell_type": "markdown",
   "metadata": {},
   "source": [
    "## Write a Python program to find the real and imaginary parts of an array of complex numbers."
   ]
  },
  {
   "cell_type": "code",
   "execution_count": 130,
   "metadata": {},
   "outputs": [
    {
     "name": "stdout",
     "output_type": "stream",
     "text": [
      "Imaginary matrix is:\n",
      "[[ 1. +2.j    3. +4.j    5. +6.j  ]\n",
      " [ 3.4+4.4j   6.5+5.23j 90.5-3.45j]]\n",
      "\n",
      "Real part is\n",
      "[[ 1.   3.   5. ]\n",
      " [ 3.4  6.5 90.5]]\n",
      "\n",
      "Imaginary part is\n",
      "[[ 2.    4.    6.  ]\n",
      " [ 4.4   5.23 -3.45]]\n",
      "\n"
     ]
    }
   ],
   "source": [
    "a = np.array([[1+2j, 3+4j, 5+6j],[3.4+4.4j,6.5+5.23j,90.5-3.45j]])\n",
    "print(\"Imaginary matrix is:\")\n",
    "print(a, end='\\n\\n')\n",
    "\n",
    "print(\"Real part is\")\n",
    "print(a.real,end='\\n\\n')\n",
    "\n",
    "print(\"Imaginary part is\")\n",
    "print(a.imag,end='\\n\\n')"
   ]
  },
  {
   "cell_type": "markdown",
   "metadata": {},
   "source": [
    "## Write a Python program to find common values between two arrays"
   ]
  },
  {
   "cell_type": "code",
   "execution_count": 137,
   "metadata": {},
   "outputs": [
    {
     "data": {
      "text/plain": [
       "array([2, 3, 4, 5, 9])"
      ]
     },
     "execution_count": 137,
     "metadata": {},
     "output_type": "execute_result"
    }
   ],
   "source": [
    "a = np.array([[9,5,6],[4,2,3],[6,3,4]])\n",
    "b = np.array([[-2,3,4],[4,3,2],[8,7,5],[9,3,4]])\n",
    "np.intersect1d(a,b)"
   ]
  },
  {
   "cell_type": "markdown",
   "metadata": {},
   "source": [
    "## Write a Python program to find the union of two arrays. Union will return the unique, sorted array of values that are in either of the two input arrays."
   ]
  },
  {
   "cell_type": "code",
   "execution_count": 5,
   "metadata": {},
   "outputs": [
    {
     "data": {
      "text/plain": [
       "array([-2,  2,  3,  4,  5,  6,  7,  8,  9])"
      ]
     },
     "execution_count": 5,
     "metadata": {},
     "output_type": "execute_result"
    }
   ],
   "source": [
    "a = np.array([[9,5,6],[4,2,3],[6,3,4]])\n",
    "b = np.array([[-2,3,4],[4,3,2],[8,7,5],[9,3,4]])\n",
    "np.union1d(a,b)"
   ]
  },
  {
   "cell_type": "markdown",
   "metadata": {},
   "source": [
    "## Write a Python program to find the set exclusive-or of two arrays. Set exclusive-or will return the sorted, unique values that are in only one (not both) of the input arrays. "
   ]
  },
  {
   "cell_type": "code",
   "execution_count": 6,
   "metadata": {},
   "outputs": [
    {
     "data": {
      "text/plain": [
       "array([-2,  6,  7,  8])"
      ]
     },
     "execution_count": 6,
     "metadata": {},
     "output_type": "execute_result"
    }
   ],
   "source": [
    "a = np.array([[9,5,6],[4,2,3],[6,3,4]])\n",
    "b = np.array([[-2,3,4],[4,3,2],[8,7,5],[9,3,4]])\n",
    "np.setxor1d(a,b)"
   ]
  },
  {
   "cell_type": "markdown",
   "metadata": {},
   "source": [
    "## Write a Python program to create an array with 10^3 elements"
   ]
  },
  {
   "cell_type": "code",
   "execution_count": 18,
   "metadata": {},
   "outputs": [
    {
     "name": "stdout",
     "output_type": "stream",
     "text": [
      "True\n"
     ]
    }
   ],
   "source": [
    "arr = np.random.randint(0,1000, size=1000)\n",
    "arr\n",
    "if 999 in arr:\n",
    "    print(True)\n",
    "else:\n",
    "    print(False)"
   ]
  }
 ],
 "metadata": {
  "kernelspec": {
   "display_name": "python37",
   "language": "python",
   "name": "python37"
  },
  "language_info": {
   "codemirror_mode": {
    "name": "ipython",
    "version": 3
   },
   "file_extension": ".py",
   "mimetype": "text/x-python",
   "name": "python",
   "nbconvert_exporter": "python",
   "pygments_lexer": "ipython3",
   "version": "3.7.0"
  }
 },
 "nbformat": 4,
 "nbformat_minor": 2
}
