{
 "cells": [
  {
   "cell_type": "markdown",
   "metadata": {},
   "source": [
    "## Write a Python program to print the NumPy version in your system"
   ]
  },
  {
   "cell_type": "code",
   "execution_count": 2,
   "metadata": {},
   "outputs": [
    {
     "name": "stdout",
     "output_type": "stream",
     "text": [
      "NumPy version is 1.15.0 \n"
     ]
    }
   ],
   "source": [
    "import numpy as np\n",
    "print(\"NumPy version is %s \"%np.version.version)"
   ]
  },
  {
   "cell_type": "markdown",
   "metadata": {},
   "source": [
    "## Write a Python program to convert a list of numeric value into a one-dimensional NumPy array."
   ]
  },
  {
   "cell_type": "code",
   "execution_count": 17,
   "metadata": {},
   "outputs": [
    {
     "name": "stdout",
     "output_type": "stream",
     "text": [
      "Enter numeric values, comma separated: 3,4,5,6,7\n",
      "[3. 4. 5. 6. 7.]\n"
     ]
    }
   ],
   "source": [
    "ip_1 = input(\"Enter numeric values, comma separated: \")\n",
    "ip_2 = ip_1.split(',')\n",
    "ip_3 = list(map(float, ip_2))\n",
    "arr = np.zeros((len(ip_3)))\n",
    "for index, i in enumerate(ip_3):\n",
    "    arr[index] = i\n",
    "print(arr)"
   ]
  },
  {
   "cell_type": "markdown",
   "metadata": {},
   "source": [
    "## Create a 3x3 matrix with values ranging from 2 to 10"
   ]
  },
  {
   "cell_type": "code",
   "execution_count": 18,
   "metadata": {},
   "outputs": [
    {
     "name": "stdout",
     "output_type": "stream",
     "text": [
      "[[ 2  3  4]\n",
      " [ 5  6  7]\n",
      " [ 8  9 10]]\n"
     ]
    }
   ],
   "source": [
    "arr = np.arange(2,11).reshape(3,3)\n",
    "print(arr)"
   ]
  },
  {
   "cell_type": "markdown",
   "metadata": {},
   "source": [
    "## Write a Python program to create a null vector of size 10 and update sixth value to 11"
   ]
  },
  {
   "cell_type": "code",
   "execution_count": 61,
   "metadata": {},
   "outputs": [
    {
     "data": {
      "text/plain": [
       "array([ 0.,  0.,  0.,  0.,  0., 11.,  0.,  0.,  0.,  0.])"
      ]
     },
     "execution_count": 61,
     "metadata": {},
     "output_type": "execute_result"
    }
   ],
   "source": [
    "arr = np.empty(10)\n",
    "arr[5] = 11\n",
    "np.set_printoptions(suppress=True)\n",
    "arr"
   ]
  },
  {
   "cell_type": "markdown",
   "metadata": {},
   "source": [
    "## Write a Python program to create a array with values ranging from 12 to 38"
   ]
  },
  {
   "cell_type": "code",
   "execution_count": 24,
   "metadata": {},
   "outputs": [
    {
     "data": {
      "text/plain": [
       "array([[12, 13, 14, 15, 16, 17, 18, 19, 20, 21, 22, 23, 24],\n",
       "       [25, 26, 27, 28, 29, 30, 31, 32, 33, 34, 35, 36, 37]])"
      ]
     },
     "execution_count": 24,
     "metadata": {},
     "output_type": "execute_result"
    }
   ],
   "source": [
    "arr = np.arange(12,38).reshape(2,13)\n",
    "arr"
   ]
  },
  {
   "cell_type": "markdown",
   "metadata": {},
   "source": [
    "## Write a Python program to reverse an array (first element becomes last)."
   ]
  },
  {
   "cell_type": "code",
   "execution_count": 36,
   "metadata": {},
   "outputs": [
    {
     "name": "stdout",
     "output_type": "stream",
     "text": [
      "Enter numeric values, comma separated: 2,3,4,5,6\n",
      "Original array:\n",
      "[2. 3. 4. 5. 6.]\n",
      "\n",
      "\n",
      "Reversed array:\n",
      "[6. 5. 4. 3. 2.]\n"
     ]
    }
   ],
   "source": [
    "import numpy as np\n",
    "ip_1 = input(\"Enter numeric values, comma separated: \")\n",
    "ip_2 = ip_1.split(',')\n",
    "ip_3 = list(map(float, ip_2))\n",
    "ip_4 = np.array(ip_3)\n",
    "print('Original array:')\n",
    "print(ip_4)\n",
    "print('\\n')\n",
    "arr1_rev = np.empty(ip_4.shape)\n",
    "for index, i in enumerate(ip_4):\n",
    "    index+=1\n",
    "    arr1_rev[-index] = i\n",
    "print(\"Reversed array:\")\n",
    "print(arr1_rev)"
   ]
  },
  {
   "cell_type": "markdown",
   "metadata": {},
   "source": [
    "## Write a Python program to an array converted to a float type."
   ]
  },
  {
   "cell_type": "code",
   "execution_count": 13,
   "metadata": {},
   "outputs": [
    {
     "name": "stdout",
     "output_type": "stream",
     "text": [
      "Array in float values\n",
      "[[1.2 2.3 2.4]\n",
      " [4.5 0.5 0.6]]\n",
      "\n",
      "\n",
      "Array in integer values\n",
      "[[1 2 2]\n",
      " [4 0 0]]\n"
     ]
    }
   ],
   "source": [
    "arr = np.array([[1.2,2.3,2.4],[4.5,.5,.6]])\n",
    "print('Array in float values')\n",
    "print(arr)\n",
    "print('\\n')\n",
    "print('Array in integer values',)\n",
    "print(arr.astype(int))"
   ]
  },
  {
   "cell_type": "markdown",
   "metadata": {},
   "source": [
    "## Write a Python program to create a 2d array with 1 on the border and 0 inside"
   ]
  },
  {
   "cell_type": "code",
   "execution_count": 33,
   "metadata": {
    "scrolled": false
   },
   "outputs": [
    {
     "name": "stdout",
     "output_type": "stream",
     "text": [
      "Original array: \n",
      "[[0. 0. 0. 0. 0. 0.]\n",
      " [0. 0. 0. 0. 0. 0.]\n",
      " [0. 0. 0. 0. 0. 0.]\n",
      " [0. 0. 0. 0. 0. 0.]\n",
      " [0. 0. 0. 0. 0. 0.]\n",
      " [0. 0. 0. 0. 0. 0.]]\n",
      "\n",
      "\n",
      "Array after applying boarde: \n",
      "[[1. 1. 1. 1. 1. 1.]\n",
      " [1. 0. 0. 0. 0. 1.]\n",
      " [1. 0. 0. 0. 0. 1.]\n",
      " [1. 0. 0. 0. 0. 1.]\n",
      " [1. 0. 0. 0. 0. 1.]\n",
      " [1. 1. 1. 1. 1. 1.]]\n"
     ]
    }
   ],
   "source": [
    "arr3 = np.zeros((6,6))\n",
    "print(\"Original array: \")\n",
    "print(arr3)\n",
    "arr3[0] = np.ones(arr3.shape[1])\n",
    "arr3[-1] = np.ones(arr3.shape[1])\n",
    "i = 1\n",
    "while i < (arr3.shape[1]-1):\n",
    "    arr3[i][0] = 1\n",
    "    arr3[i][-1] = 1\n",
    "    i += 1\n",
    "print('\\n')\n",
    "print(\"Array after applying boarde: \")\n",
    "print(arr3)"
   ]
  },
  {
   "cell_type": "markdown",
   "metadata": {},
   "source": [
    "## Write a Python program to add a border (filled with 0's) around an existing array"
   ]
  },
  {
   "cell_type": "code",
   "execution_count": 76,
   "metadata": {},
   "outputs": [
    {
     "name": "stdout",
     "output_type": "stream",
     "text": [
      "Original array: \n",
      "[[1 2 3]\n",
      " [4 5 6]\n",
      " [7 8 9]]\n",
      "\n",
      "Broadcasting of arra:\n",
      "[[0 0 0 0 0]\n",
      " [0 1 2 3 0]\n",
      " [0 4 5 6 0]\n",
      " [0 7 8 9 0]\n",
      " [0 0 0 0 0]]\n"
     ]
    }
   ],
   "source": [
    "arr4 = np.arange(1,10).reshape((3,3))\n",
    "print(\"Original array: \")\n",
    "print(arr4, end='\\n\\n')\n",
    "arr5 = np.pad(arr4, pad_width=1, mode='constant', constant_values=0)\n",
    "print(\"Broadcasting of arra:\")\n",
    "print(arr5)"
   ]
  },
  {
   "cell_type": "markdown",
   "metadata": {},
   "source": [
    "## Write a Python program to create a 8x8 matrix and fill it with a checkerboard pattern"
   ]
  },
  {
   "cell_type": "code",
   "execution_count": 4,
   "metadata": {},
   "outputs": [
    {
     "name": "stdout",
     "output_type": "stream",
     "text": [
      "Enter the square order of matrix: 8\n",
      "Checkerboard pattern: \n",
      "[[0 1 0 1 0 1 0 1]\n",
      " [1 0 1 0 1 0 1 0]\n",
      " [0 1 0 1 0 1 0 1]\n",
      " [1 0 1 0 1 0 1 0]\n",
      " [0 1 0 1 0 1 0 1]\n",
      " [1 0 1 0 1 0 1 0]\n",
      " [0 1 0 1 0 1 0 1]\n",
      " [1 0 1 0 1 0 1 0]]\n"
     ]
    }
   ],
   "source": [
    "p = int(input(\"Enter the square order of matrix: \"))\n",
    "arr = np.ones((p,p), dtype='int32')\n",
    "\n",
    "arr[::2,::2] = 0\n",
    "arr[1::2,1::2] = 0\n",
    "print(\"Checkerboard pattern: \")\n",
    "print(arr)"
   ]
  },
  {
   "cell_type": "markdown",
   "metadata": {},
   "source": [
    "## Write a Python program to convert a list and tuple into arrays."
   ]
  },
  {
   "cell_type": "code",
   "execution_count": 86,
   "metadata": {},
   "outputs": [
    {
     "name": "stdout",
     "output_type": "stream",
     "text": [
      "List is [1, 2, 3, 4]\n",
      "List to array is [1 2 3 4]\n",
      "Tuple is ((1, 2, 3, 4), (5, 6, 7, 8))\n",
      "Tuple to array is [[1 2 3 4]\n",
      " [5 6 7 8]]\n"
     ]
    }
   ],
   "source": [
    "a = [1,2,3,4]\n",
    "print(\"List is \", end=\"\")\n",
    "print(a)\n",
    "\n",
    "a = np.asarray(a)\n",
    "print(\"List to array is \", end=\"\")\n",
    "print(a)\n",
    "\n",
    "b = ((1,2,3,4),(5,6,7,8))\n",
    "print(\"Tuple is \", end=\"\")\n",
    "print(b)\n",
    "b = np.asarray(b)\n",
    "print(\"Tuple to array is \", end=\"\")\n",
    "print(b)"
   ]
  },
  {
   "cell_type": "markdown",
   "metadata": {},
   "source": [
    "## Write a Python program to append values to the end of an array."
   ]
  },
  {
   "cell_type": "code",
   "execution_count": 93,
   "metadata": {},
   "outputs": [
    {
     "name": "stdout",
     "output_type": "stream",
     "text": [
      "Original array is [[0 1 2]\n",
      " [3 4 5]\n",
      " [6 7 8]]\n"
     ]
    },
    {
     "data": {
      "text/plain": [
       "array([[ 0,  1,  2],\n",
       "       [ 3,  4,  5],\n",
       "       [ 6,  7,  8],\n",
       "       [ 9, 10, 11]])"
      ]
     },
     "execution_count": 93,
     "metadata": {},
     "output_type": "execute_result"
    }
   ],
   "source": [
    "arr2 = np.arange(9).reshape(3,3)\n",
    "print(\"Original array is \", end=\"\")\n",
    "\n",
    "print(arr2)\n",
    "np.append(arr2,[[9,10,11]], axis=0)"
   ]
  },
  {
   "cell_type": "markdown",
   "metadata": {},
   "source": [
    "## Write a Python program to create an empty and a full array"
   ]
  },
  {
   "cell_type": "code",
   "execution_count": 108,
   "metadata": {},
   "outputs": [
    {
     "name": "stdout",
     "output_type": "stream",
     "text": [
      "Empty array is \n",
      "[[ 0.00000000e+000  0.00000000e+000  0.00000000e+000  0.00000000e+000]\n",
      " [ 0.00000000e+000  0.00000000e+000  0.00000000e+000  4.44659081e-322]\n",
      " [-2.68156159e+154 -2.00390401e+000 -2.68156159e+154 -2.32036231e+077]\n",
      " [ 1.97626258e-323  0.00000000e+000  0.00000000e+000  0.00000000e+000]]\n",
      "\n",
      "Full array is \n",
      "[[10 10 10]\n",
      " [10 10 10]\n",
      " [10 10 10]]\n"
     ]
    }
   ],
   "source": [
    "arr = np.empty((4,4))\n",
    "np.set_printoptions(suppress=True)\n",
    "print(\"Empty array is \")\n",
    "print(arr, end='\\n\\n')\n",
    "arr2 = np.full((3,3),10)\n",
    "print(\"Full array is \")\n",
    "print(arr2)"
   ]
  },
  {
   "cell_type": "markdown",
   "metadata": {},
   "source": [
    "## Write a Python program to convert the values of Centigrade degrees into Fahrenheit degrees. Centigrade values are stored into a NumPy array"
   ]
  },
  {
   "cell_type": "code",
   "execution_count": 116,
   "metadata": {},
   "outputs": [
    {
     "name": "stdout",
     "output_type": "stream",
     "text": [
      "Temperatures is degress is: \n",
      "[[ 10.    11.2    5.6 ]\n",
      " [  5.4   78.6   45.67]\n",
      " [ 45.6   76.4  -56.7 ]]\n",
      "\n",
      "Equivalent temperatures if Fahrenhite is: \n",
      "[[ 50.     52.16   42.08 ]\n",
      " [ 41.72  173.48  114.206]\n",
      " [114.08  169.52  -70.06 ]]\n"
     ]
    }
   ],
   "source": [
    "arr = np.array([[10,11.2,5.6],[5.4,78.6,45.67],[45.6,76.4,-56.7]])\n",
    "print(\"Temperatures is degress is: \")\n",
    "print(arr, end='\\n\\n')\n",
    "fahre = arr*(9/5) + 32\n",
    "print(\"Equivalent temperatures if Fahrenhite is: \")\n",
    "print(fahre)"
   ]
  },
  {
   "cell_type": "markdown",
   "metadata": {},
   "source": [
    "## Write a Python program to find the real and imaginary parts of an array of complex numbers."
   ]
  },
  {
   "cell_type": "code",
   "execution_count": 130,
   "metadata": {},
   "outputs": [
    {
     "name": "stdout",
     "output_type": "stream",
     "text": [
      "Imaginary matrix is:\n",
      "[[ 1. +2.j    3. +4.j    5. +6.j  ]\n",
      " [ 3.4+4.4j   6.5+5.23j 90.5-3.45j]]\n",
      "\n",
      "Real part is\n",
      "[[ 1.   3.   5. ]\n",
      " [ 3.4  6.5 90.5]]\n",
      "\n",
      "Imaginary part is\n",
      "[[ 2.    4.    6.  ]\n",
      " [ 4.4   5.23 -3.45]]\n",
      "\n"
     ]
    }
   ],
   "source": [
    "a = np.array([[1+2j, 3+4j, 5+6j],[3.4+4.4j,6.5+5.23j,90.5-3.45j]])\n",
    "print(\"Imaginary matrix is:\")\n",
    "print(a, end='\\n\\n')\n",
    "\n",
    "print(\"Real part is\")\n",
    "print(a.real,end='\\n\\n')\n",
    "\n",
    "print(\"Imaginary part is\")\n",
    "print(a.imag,end='\\n\\n')"
   ]
  },
  {
   "cell_type": "markdown",
   "metadata": {},
   "source": [
    "## Write a Python program to find common values between two arrays"
   ]
  },
  {
   "cell_type": "code",
   "execution_count": 137,
   "metadata": {},
   "outputs": [
    {
     "data": {
      "text/plain": [
       "array([2, 3, 4, 5, 9])"
      ]
     },
     "execution_count": 137,
     "metadata": {},
     "output_type": "execute_result"
    }
   ],
   "source": [
    "a = np.array([[9,5,6],[4,2,3],[6,3,4]])\n",
    "b = np.array([[-2,3,4],[4,3,2],[8,7,5],[9,3,4]])\n",
    "np.intersect1d(a,b)"
   ]
  },
  {
   "cell_type": "markdown",
   "metadata": {},
   "source": [
    "## Write a Python program to find the union of two arrays. Union will return the unique, sorted array of values that are in either of the two input arrays."
   ]
  },
  {
   "cell_type": "code",
   "execution_count": 5,
   "metadata": {},
   "outputs": [
    {
     "data": {
      "text/plain": [
       "array([-2,  2,  3,  4,  5,  6,  7,  8,  9])"
      ]
     },
     "execution_count": 5,
     "metadata": {},
     "output_type": "execute_result"
    }
   ],
   "source": [
    "a = np.array([[9,5,6],[4,2,3],[6,3,4]])\n",
    "b = np.array([[-2,3,4],[4,3,2],[8,7,5],[9,3,4]])\n",
    "np.union1d(a,b)"
   ]
  },
  {
   "cell_type": "markdown",
   "metadata": {},
   "source": [
    "## Write a Python program to find the set exclusive-or of two arrays. Set exclusive-or will return the sorted, unique values that are in only one (not both) of the input arrays. "
   ]
  },
  {
   "cell_type": "code",
   "execution_count": 6,
   "metadata": {},
   "outputs": [
    {
     "data": {
      "text/plain": [
       "array([-2,  6,  7,  8])"
      ]
     },
     "execution_count": 6,
     "metadata": {},
     "output_type": "execute_result"
    }
   ],
   "source": [
    "a = np.array([[9,5,6],[4,2,3],[6,3,4]])\n",
    "b = np.array([[-2,3,4],[4,3,2],[8,7,5],[9,3,4]])\n",
    "np.setxor1d(a,b)"
   ]
  },
  {
   "cell_type": "markdown",
   "metadata": {},
   "source": [
    "## Write a Python program to create an array with 10^3 elements"
   ]
  },
  {
   "cell_type": "code",
   "execution_count": 32,
   "metadata": {},
   "outputs": [
    {
     "data": {
      "text/plain": [
       "array([ 16, 936, 216, 516, 861, 282, 785,  93, 263, 251, 639,  41, 896,\n",
       "       210, 277,  36, 477, 413, 272, 102, 786,   9, 416, 808, 661, 927,\n",
       "       828, 174, 808, 410, 488, 104,  47, 644, 691, 736, 328, 997,  75,\n",
       "       432, 418, 818, 360, 996, 460, 371, 388, 100, 886, 820, 161, 770,\n",
       "       935, 923, 997, 779, 434, 549, 335, 483, 199, 863, 454, 628, 337,\n",
       "       287, 721, 167, 204, 176, 288,  72, 345, 950, 279, 420, 439, 689,\n",
       "       816, 260, 393, 292, 433, 306, 368, 607, 222, 624, 765, 273, 659,\n",
       "       469, 567, 712, 478, 610,  44, 410, 549,  31, 732,  49, 742,  36,\n",
       "       433, 404, 876, 768, 729, 192, 718, 486, 624, 431, 249,  46, 602,\n",
       "       651, 458, 649, 220, 596, 677, 486, 339, 286,  19, 997, 827, 418,\n",
       "       476, 823,  72, 137, 911, 731, 930, 258, 415, 344, 987, 554, 706,\n",
       "       480, 624, 974, 267,  66,  11, 987, 341, 221, 913, 151, 189, 552,\n",
       "       877, 694, 866, 144, 980,  82, 932, 879, 595, 773, 792, 921, 269,\n",
       "       568, 492, 899, 389, 271, 416, 673, 208, 274, 230, 747, 780, 987,\n",
       "       903, 668, 180, 521, 554, 202, 962, 293,  97, 308, 381, 630, 328,\n",
       "       104, 994, 995, 449, 472, 135, 322, 415, 753, 872, 949, 428, 490,\n",
       "       929, 746, 527, 123,  27, 161, 320, 908,  56, 666, 346, 164, 549,\n",
       "       961, 819, 120,  90, 949,  92, 440, 896, 846, 952, 830, 413,  92,\n",
       "       715, 357, 546, 593, 166, 840, 378, 613, 174, 417, 464, 206, 266,\n",
       "       684, 584, 731, 739, 989, 295, 194, 458, 816, 180, 951, 933, 993,\n",
       "       906, 722, 760, 511,  33, 724, 687, 658, 318, 622,  29, 857, 508,\n",
       "       750, 777,  26, 729, 477, 754, 510, 202, 308, 809, 660, 652, 563,\n",
       "       259, 219, 479, 698,  46, 315, 566, 416, 370, 497, 287, 589, 270,\n",
       "       714, 727, 661, 343, 272, 647, 585, 590, 956,  36, 355, 773, 636,\n",
       "       264, 362,  59, 175, 751, 480,  12, 984,  35, 278, 657, 790, 257,\n",
       "       117, 198, 142, 868, 579,  20, 922, 408, 498, 601, 479, 208, 294,\n",
       "       453, 196, 197, 638, 311, 202, 536, 698, 657, 895, 546, 936, 186,\n",
       "       992, 984, 805, 378, 973, 764, 717, 418, 219, 371, 126, 545, 980,\n",
       "       614, 695, 765, 593, 552, 616, 609, 271, 138, 943, 693, 256, 941,\n",
       "       780, 579,  45,  20, 447, 695, 198, 932, 648, 386, 343, 702, 695,\n",
       "       660, 994,  54, 886,  26, 508, 944, 459, 196, 642, 878, 943, 746,\n",
       "       493, 826, 759, 705, 790, 356, 192, 566, 536, 835, 523, 705,  92,\n",
       "       478, 161, 170, 942, 971, 781, 559, 444, 353, 646, 516, 675,  76,\n",
       "       446, 379,  84, 138, 158, 304, 826,   9, 321,  24, 828, 997, 263,\n",
       "       928, 855,  82, 720, 592, 345, 136, 266, 357, 502, 661, 776, 838,\n",
       "       486, 476, 602, 158, 219, 140,  45, 200,  60,  57, 345, 448, 236,\n",
       "       219, 327, 877, 214, 656, 414, 371, 175, 190, 511,  59, 753, 929,\n",
       "       223, 357, 933, 242, 446, 985, 227,  77, 166, 931, 104, 953, 822,\n",
       "        30, 435,  86, 618, 732, 897, 151, 632, 842, 984, 221, 108, 720,\n",
       "       661, 316, 489, 208, 524, 295,  44, 420, 803, 512, 712, 237, 112,\n",
       "       565, 491, 234,  14, 723, 117, 353, 354, 325, 594, 644, 978, 213,\n",
       "       555, 714, 632,  82, 999, 937, 417, 734, 339, 635, 267, 428, 254,\n",
       "       528, 113, 329, 898, 169, 259, 603, 574, 419, 566, 863, 137, 954,\n",
       "       454, 204, 918, 721, 744, 867, 784, 291, 422, 192,  59, 626, 257,\n",
       "       390, 301, 405, 623, 484, 405, 615, 150, 827, 989, 169,  47, 913,\n",
       "       501, 388, 690, 709, 104, 648, 672,  94, 385, 657, 669, 506, 297,\n",
       "       184, 159,  82, 599, 439, 389, 362, 286, 219, 996, 636, 743, 819,\n",
       "       666, 731, 374, 337, 681, 174, 741, 285, 694, 452, 931, 603, 676,\n",
       "       450, 475, 757, 665, 864, 843, 927, 885, 901, 384, 249, 363, 421,\n",
       "       757, 762, 494, 741, 933, 315, 545, 198, 781, 845, 213, 613, 388,\n",
       "       450,  29, 862, 145, 273, 836, 113, 666, 188, 467, 842, 964, 953,\n",
       "       593, 822,  49,  52, 548, 531, 436, 205, 807,   8, 848, 424, 119,\n",
       "       325, 191,   3, 369, 520, 401, 858, 450, 926, 656, 711, 180, 252,\n",
       "       380, 952, 914, 655, 887, 279, 104, 496, 634, 919,   6, 755, 317,\n",
       "       833, 637, 926, 748, 436,   1, 590,  22, 230, 638, 752, 242, 529,\n",
       "       550,  72, 455, 910, 917, 750, 905, 775, 314, 426, 398, 449, 796,\n",
       "       863, 844, 859, 903, 793, 830, 692,  20, 121, 796, 766, 267, 964,\n",
       "       947, 225, 471, 441, 986,  84, 601, 425, 188, 582,  90, 802, 148,\n",
       "       158,  29,  65, 175,   5, 358, 693,  89, 205, 646, 967, 732, 394,\n",
       "       686, 408, 507, 513,  40, 905, 162, 817, 955, 988,  69, 810,  58,\n",
       "       815, 852, 803, 246,  41, 566, 133, 272, 308, 763, 122, 838,  23,\n",
       "       362, 714, 895,  85, 723,  10, 662, 482, 646, 536, 977, 197, 879,\n",
       "       135, 406, 522, 433,  59, 159, 730, 885, 585,  62, 249, 203, 300,\n",
       "        72, 813, 965,  65,  99, 550, 191, 806,  79, 690, 500, 212, 355,\n",
       "       279, 513, 936, 666, 941, 338, 908, 930, 354, 793, 778, 147,  50,\n",
       "       985, 189, 359, 559, 897, 355, 399, 313, 364, 242, 852,  97, 832,\n",
       "       430, 503, 699,  47, 720, 786, 300, 360, 929, 416, 370, 243, 485,\n",
       "       456, 323, 439, 958, 890, 732, 308, 482, 297, 395, 972, 593, 897,\n",
       "       454, 213, 581, 721, 176, 310,  15, 348,  94, 531,  27, 731, 266,\n",
       "       608, 120, 544, 521, 772, 884, 962, 723, 101, 394, 545, 769, 933,\n",
       "       980, 513, 624,  40, 984,  45, 935, 889, 349, 671, 585, 914, 601,\n",
       "       881, 187, 517, 197, 342, 828, 791, 593, 773, 827, 266, 204, 953,\n",
       "        48, 262, 633, 503, 719, 456, 643, 599, 110, 430, 264, 572, 522,\n",
       "       540, 274, 154, 340, 817, 797, 344, 895, 850, 883, 104, 946, 611,\n",
       "         7, 403, 294, 199, 179, 274, 543,  29, 426, 505, 153, 152, 315,\n",
       "        30,  81, 904, 909, 166, 413, 485, 886, 339, 494, 455, 600, 240,\n",
       "       940, 127, 587, 745, 401, 211, 362,  61,  82, 100, 254, 733])"
      ]
     },
     "execution_count": 32,
     "metadata": {},
     "output_type": "execute_result"
    }
   ],
   "source": [
    "arr = np.random.randint(0,1000, size=1000)\n",
    "arr"
   ]
  }
 ],
 "metadata": {
  "kernelspec": {
   "display_name": "python37",
   "language": "python",
   "name": "python37"
  },
  "language_info": {
   "codemirror_mode": {
    "name": "ipython",
    "version": 3
   },
   "file_extension": ".py",
   "mimetype": "text/x-python",
   "name": "python",
   "nbconvert_exporter": "python",
   "pygments_lexer": "ipython3",
   "version": "3.7.0"
  }
 },
 "nbformat": 4,
 "nbformat_minor": 2
}
