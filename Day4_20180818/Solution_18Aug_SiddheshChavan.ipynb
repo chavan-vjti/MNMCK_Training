{
 "cells": [
  {
   "cell_type": "markdown",
   "metadata": {},
   "source": [
    "# METHODS"
   ]
  },
  {
   "cell_type": "markdown",
   "metadata": {},
   "source": [
    "##  Write a Python function that checks whether a passed string is palindrome or not."
   ]
  },
  {
   "cell_type": "code",
   "execution_count": 2,
   "metadata": {},
   "outputs": [
    {
     "name": "stdout",
     "output_type": "stream",
     "text": [
      "Enter a string to check for palindrome: siddhesh\n",
      "siddhesh is not a palindrome.\n"
     ]
    }
   ],
   "source": [
    "def palindrome(a):\n",
    "    b = a[::-1]\n",
    "    if not a==b:\n",
    "        return (\"%s is not a palindrome.\"%a)\n",
    "    else:\n",
    "        return (\"%s is a palindrome.\"%a)\n",
    "c = input(\"Enter a string to check for palindrome: \")\n",
    "print(palindrome(c))"
   ]
  },
  {
   "cell_type": "markdown",
   "metadata": {},
   "source": [
    "### Write a Python function that prints out the first n rows of Pascal's triangle."
   ]
  },
  {
   "cell_type": "code",
   "execution_count": 4,
   "metadata": {},
   "outputs": [
    {
     "name": "stdout",
     "output_type": "stream",
     "text": [
      "Enter number of rows: 10\n",
      "                                    1 \n",
      "                                 1      1 \n",
      "                              1      2      1 \n",
      "                           1      3      3      1 \n",
      "                        1      4      6      4      1 \n",
      "                     1      5     10     10      5      1 \n",
      "                  1      6     15     20     15      6      1 \n",
      "               1      7     21     35     35     21      7      1 \n",
      "            1      8     28     56     70     56     28      8      1 \n",
      "         1      9     36     84    126    126     84     36      9      1 \n"
     ]
    }
   ],
   "source": [
    "n=int(input(\"Enter number of rows: \"))\n",
    "a=[]\n",
    "for i in range(n):\n",
    "    a.append([])cl\n",
    "    a[i].append(1)\n",
    "    for j in range(1,i):\n",
    "        a[i].append(a[i-1][j-1]+a[i-1][j])\n",
    "    if(n!=0):\n",
    "        a[i].append(1)\n",
    "for i in range(n):\n",
    "    print(\"   \"*(n-i),end=\" \",sep=\" \")\n",
    "    for j in range(0,i+1):\n",
    "        print('{0:6}'.format(a[i][j]),end=\" \",sep=\" \")\n",
    "    print()"
   ]
  },
  {
   "cell_type": "markdown",
   "metadata": {},
   "source": [
    "## Write a Python function to create and print a list where the values are square of numbers between 1 and 30"
   ]
  },
  {
   "cell_type": "code",
   "execution_count": 7,
   "metadata": {},
   "outputs": [
    {
     "name": "stdout",
     "output_type": "stream",
     "text": [
      "[1, 4, 9, 16, 25, 36, 49, 64, 81, 100, 121, 144, 169, 196, 225, 256, 289, 324, 361, 400, 441, 484, 529, 576, 625, 676, 729, 784, 841, 900]\n"
     ]
    }
   ],
   "source": [
    "def square_n():\n",
    "    n = [i for i in range(1,31)]\n",
    "    sq_n = list(map(lambda x: x**2, n))\n",
    "    return sq_n\n",
    "print(square_n())"
   ]
  },
  {
   "cell_type": "markdown",
   "metadata": {},
   "source": [
    "## Write a Python program to execute a string containing Python code. "
   ]
  },
  {
   "cell_type": "code",
   "execution_count": 20,
   "metadata": {},
   "outputs": [],
   "source": [
    "f = open(\"Test.py\", \"a\")\n",
    "f.write(\"def square_n():\\n\")\n",
    "f.write(\"\\tn = [i for i in range(1,31)]\\n\")\n",
    "f.write(\"\\tsq_n = list(map(lambda x: x**2, n))\\n\")\n",
    "f.write(\"\\treturn sq_n\\n\")\n",
    "f.write(\"print(square_n())\")\n",
    "f.close()"
   ]
  },
  {
   "cell_type": "code",
   "execution_count": 21,
   "metadata": {},
   "outputs": [
    {
     "name": "stdout",
     "output_type": "stream",
     "text": [
      "[1, 4, 9, 16, 25, 36, 49, 64, 81, 100, 121, 144, 169, 196, 225, 256, 289, 324, 361, 400, 441, 484, 529, 576, 625, 676, 729, 784, 841, 900]\n"
     ]
    }
   ],
   "source": [
    "%run -i 'Test.py'"
   ]
  },
  {
   "cell_type": "markdown",
   "metadata": {},
   "source": [
    "## Write a Python program to access a function inside a function"
   ]
  },
  {
   "cell_type": "code",
   "execution_count": 32,
   "metadata": {},
   "outputs": [
    {
     "name": "stdout",
     "output_type": "stream",
     "text": [
      "Enter a number: 90\n",
      "4095\n"
     ]
    }
   ],
   "source": [
    "# Adds all the number with decrement\n",
    "def recursion(n):\n",
    "    if n ==1:\n",
    "        return 1\n",
    "    else:\n",
    "        add = n + recursion(n-1)\n",
    "    return add\n",
    "\n",
    "p = int(input(\"Enter a number: \"))\n",
    "print(recursion(p))"
   ]
  },
  {
   "cell_type": "markdown",
   "metadata": {},
   "source": [
    "## Write a Python program to create an Enum object and display a member name and value. "
   ]
  },
  {
   "cell_type": "code",
   "execution_count": 25,
   "metadata": {},
   "outputs": [
    {
     "name": "stdout",
     "output_type": "stream",
     "text": [
      "1 Member name is 'Films.TheSecret' and it's value is 5\n",
      "2 Member name is 'Films.TheMachinist' and it's value is 4\n",
      "3 Member name is 'Films.LifeBeauty' and it's value is 3\n",
      "4 Member name is 'Films.procrastinator' and it's value is 6\n"
     ]
    }
   ],
   "source": [
    "from enum import IntEnum\n",
    "class Films(IntEnum):\n",
    "    TheSecret = 5\n",
    "    TheMachinist = 4\n",
    "    LifeBeauty = 3\n",
    "    procrastinator = 6\n",
    "    \n",
    "for index, x in enumerate(Films):\n",
    "    index +=1\n",
    "    print(\"%d Member name is '%s' and it's value is %d\" %(index, x, int(x)))"
   ]
  },
  {
   "cell_type": "markdown",
   "metadata": {},
   "source": [
    "## Write a Python program to count the most common words in a dictionary. "
   ]
  },
  {
   "cell_type": "code",
   "execution_count": 1,
   "metadata": {},
   "outputs": [
    {
     "name": "stdout",
     "output_type": "stream",
     "text": [
      "Enter a word: siddh\n",
      "Counter({'d': 2, 's': 1, 'i': 1, 'h': 1})\n"
     ]
    },
    {
     "data": {
      "text/plain": [
       "[('d', 2), ('s', 1), ('i', 1)]"
      ]
     },
     "execution_count": 1,
     "metadata": {},
     "output_type": "execute_result"
    }
   ],
   "source": [
    "from collections import Counter\n",
    "user_ip = input(\"Enter a word: \")\n",
    "def common_words(a):\n",
    "    a = list(a)\n",
    "    return Counter(a)\n",
    "print(common_words(user_ip))\n",
    "# b = dict(b)\n",
    "# print(b)\n",
    "d = Counter(user_ip)\n",
    "d.most_common(3)"
   ]
  },
  {
   "cell_type": "markdown",
   "metadata": {},
   "source": [
    "# OOPS"
   ]
  },
  {
   "cell_type": "markdown",
   "metadata": {},
   "source": [
    "## Write a Python class to get all possible unique subsets from a set of distinct integers. "
   ]
  },
  {
   "cell_type": "code",
   "execution_count": null,
   "metadata": {},
   "outputs": [],
   "source": [
    "class uniqe_subsets():\n",
    "    "
   ]
  },
  {
   "cell_type": "markdown",
   "metadata": {},
   "source": [
    "## Write a Python class to find a pair of elements (indices of the two numbers) from a given array whose sum equals a specific target number."
   ]
  },
  {
   "cell_type": "code",
   "execution_count": null,
   "metadata": {},
   "outputs": [],
   "source": []
  },
  {
   "cell_type": "markdown",
   "metadata": {},
   "source": [
    "##  Write a Python class to find the three elements that sum to zero from a set of n real numbers."
   ]
  },
  {
   "cell_type": "code",
   "execution_count": null,
   "metadata": {},
   "outputs": [],
   "source": [
    "class real_numbers():\n",
    "    def addition(s)"
   ]
  },
  {
   "cell_type": "markdown",
   "metadata": {},
   "source": [
    "## Write a Python class to implement pow(x, n)"
   ]
  },
  {
   "cell_type": "code",
   "execution_count": 2,
   "metadata": {},
   "outputs": [
    {
     "name": "stdout",
     "output_type": "stream",
     "text": [
      "Enter a number: 4\n",
      "Enter a power to calculate: 5\n",
      "4 raised to 5 is 1024.\n"
     ]
    }
   ],
   "source": [
    "c1 = int(input(\"Enter a number: \"))\n",
    "c2 = int(input(\"Enter a power to calculate: \"))\n",
    "\n",
    "class power_n():\n",
    "    def __init__(self, num, power):\n",
    "        self.num = num\n",
    "        self.power = power\n",
    "\n",
    "    def powernum(self):\n",
    "        return self.num ** self.power\n",
    "\n",
    "\n",
    "c3 = power_n(c1,c2)\n",
    "print(\"%d raised to %d is %d.\" %(c1, c2, c3.powernum()))\n"
   ]
  },
  {
   "cell_type": "markdown",
   "metadata": {},
   "source": [
    "## Write a Python class which has two methods get_String and print_String. get_String accept a string from the user and print_String print the string in upper case"
   ]
  },
  {
   "cell_type": "code",
   "execution_count": 4,
   "metadata": {},
   "outputs": [
    {
     "name": "stdout",
     "output_type": "stream",
     "text": [
      "Enter a string: siddhesh\n",
      "Entered string in uppercase is SIDDHESH.\n"
     ]
    }
   ],
   "source": [
    "class Demo():\n",
    "    def __init__(self):\n",
    "        self.astring = \"\"\n",
    "\n",
    "    def get_string(self):\n",
    "        self.astring = input(\"Enter a string: \")\n",
    "\n",
    "    def print_string(self):\n",
    "        self.astring = self.astring.upper()\n",
    "        print(\"Entered string in uppercase is %s.\" % self.astring)\n",
    "\n",
    "b1 = Demo()\n",
    "b1.get_string()\n",
    "b1.print_string()"
   ]
  },
  {
   "cell_type": "markdown",
   "metadata": {},
   "source": [
    "## Write a Python class named Rectangle constructed by a length and width and a method which will compute the area of a rectangle."
   ]
  },
  {
   "cell_type": "code",
   "execution_count": 6,
   "metadata": {},
   "outputs": [
    {
     "name": "stdout",
     "output_type": "stream",
     "text": [
      "Enter a width of rectangle: 3\n",
      "Enter a length of rectangle: 4\n",
      "Area of rectangle of with 3.000000 width and 4.000000 length is 12.000000 sq. units.\n"
     ]
    }
   ],
   "source": [
    "class area_rectangle():\n",
    "    def __init__(self):\n",
    "        self.width = \"\"\n",
    "        self.length = \"\"\n",
    "    def get_dim(self):\n",
    "        self.width = float(input(\"Enter a width of rectangle: \"))\n",
    "        self.length = float(input(\"Enter a length of rectangle: \"))\n",
    "    def compute_area(self):\n",
    "        self.area = self.width*self.length\n",
    "        print(\"Area of rectangle of with %f width and %f length is %f sq. units.\"%(self.width, self.length, self.area))\n",
    "\n",
    "a1 = area_rectangle()\n",
    "a1.get_dim()\n",
    "a1.compute_area()"
   ]
  },
  {
   "cell_type": "markdown",
   "metadata": {},
   "source": [
    "## Write a Python class named Circle constructed by a radius and two methods which will compute the area and the perimeter of a circle"
   ]
  },
  {
   "cell_type": "code",
   "execution_count": null,
   "metadata": {},
   "outputs": [],
   "source": [
    "from math import pi\n",
    "class Circle():\n",
    "    def __init__(self):\n",
    "        self.radius = \"\"\n",
    "    def get_radius(self):\n",
    "        self.radius = float(input(\"Enter a radius: \"))\n",
    "    def compute_area(self):\n",
    "        self.area = pi * r * r\n",
    "        print(\"Area of circle with radius %f is %f.\"%(self.radius, self.area))\n",
    "    def compute_perimeter(self):\n",
    "        self.pmeter = 2 * pi * r\n",
    "        print(\"Perimeter of circle with radius %f is %f.\"%(self.radius, self.pmeter))\n",
    "d1 = Circle()\n",
    "d1.get_radius"
   ]
  }
 ],
 "metadata": {
  "kernelspec": {
   "display_name": "python37",
   "language": "python",
   "name": "python37"
  },
  "language_info": {
   "codemirror_mode": {
    "name": "ipython",
    "version": 3
   },
   "file_extension": ".py",
   "mimetype": "text/x-python",
   "name": "python",
   "nbconvert_exporter": "python",
   "pygments_lexer": "ipython3",
   "version": "3.7.0"
  }
 },
 "nbformat": 4,
 "nbformat_minor": 2
}
