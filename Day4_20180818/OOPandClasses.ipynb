{
 "cells": [
  {
   "cell_type": "markdown",
   "metadata": {},
   "source": [
    "### Classes \n",
    "\n",
    "Roughly, they are packages of functions that use and process built-in object types. Classes, though, are designed to create and manage new objects, and support inheritance—a mechanism of code customization and reuse \n",
    "\n",
    "#### Inheritance\n",
    "\n",
    "#### Composition\n",
    "\n",
    "#### Multiple instances\n",
    "\n",
    "    Classes are essentially factories for generating one or more objects. Every time we call a class, we generate a new object with a distinct namespace. \n",
    "    \n",
    "#### Customization via inheritance\n",
    "\n",
    "####  Operator overloading\n",
    "\n",
    "#### Attribute Inheritance Search\n",
    "\n",
    "    Find the first occurrence of attribute by looking in object, then in all classes above it, from bottom to top \n",
    "    \n",
    "#### Classes\n",
    "\n",
    "  Serve as instance factories\n",
    "\n",
    "####  Instances\n",
    "      \n",
    "      Represent the concrete items in a program’s domain.\n",
    "      \n",
    "\n",
    "The primary difference between classes and instances is that classes are a kind of fac- tory for generating instances.\n",
    "\n",
    "\n",
    "##### Each class statement generates a new class object.\n",
    "##### Each time a class is called, it generates a new instance object.\n",
    "#####  Classes are automatically linked to their super classes according to the way welist them in parentheses in a class header line\n",
    "\n",
    "##### Attributes are usually attached to classes by assignments made at the top level in class statement blocks, and not nested inside function def statements there\n",
    "\n",
    "##### Attributes are usually attached to instances by assignments to the special argument passed to functions coded inside classes, called self.\n",
    "\n",
    "\n",
    "\n"
   ]
  },
  {
   "cell_type": "code",
   "execution_count": 15,
   "metadata": {
    "collapsed": true
   },
   "outputs": [],
   "source": [
    "class C2:\n",
    "    b = 'two' \n",
    "class C3:\n",
    "    a = 'one'\n",
    "\n",
    "class C1(C2, C3):\n",
    "    def setname(self, who):\n",
    "        self.name = who\n",
    "           \n",
    "            \n",
    "        "
   ]
  },
  {
   "cell_type": "markdown",
   "metadata": {},
   "source": [
    "when a def appears inside a class like this, it is usually known as a method, and it automatically receives a special first argument—called self by convention—that pro- vides a handle back to the instance to be processed. Any values you pass to the method yourself go to arguments after self (here, to who)"
   ]
  },
  {
   "cell_type": "code",
   "execution_count": 17,
   "metadata": {
    "collapsed": true
   },
   "outputs": [],
   "source": [
    "I1 = C1()\n",
    "I2 = C1()"
   ]
  },
  {
   "cell_type": "code",
   "execution_count": 18,
   "metadata": {
    "collapsed": true
   },
   "outputs": [],
   "source": [
    "I1.setname('bob')"
   ]
  },
  {
   "cell_type": "code",
   "execution_count": 19,
   "metadata": {
    "collapsed": true
   },
   "outputs": [],
   "source": [
    "I2.setname('sue')"
   ]
  },
  {
   "cell_type": "code",
   "execution_count": 20,
   "metadata": {},
   "outputs": [
    {
     "name": "stdout",
     "output_type": "stream",
     "text": [
      "bob\n"
     ]
    }
   ],
   "source": [
    "print(I1.name)"
   ]
  },
  {
   "cell_type": "markdown",
   "metadata": {},
   "source": [
    "Referencing I1.name before calling I1.setname would produce an undefined name error. \n",
    "\n",
    "If it’s coded or inherited, Python automatically calls a method named __init__ each time an instance is generated from a class. The new instance is passed in to the self argument of __init__ as usual, and any values listed in parentheses in the class call go to arguments two and beyond. The effect here is to initialize instances when they are made, without requiring extra method calls.\n",
    "\n",
    "The \"___init___\"method is known as the constructor because of when it is run.\n",
    "\n",
    "If no __init__ is present, class calls return an empty instance, without initializing it.\n"
   ]
  },
  {
   "cell_type": "code",
   "execution_count": 21,
   "metadata": {
    "collapsed": true
   },
   "outputs": [],
   "source": [
    "class C1(C2, C3):\n",
    "    def __init__(self, who):\n",
    "        self.name = who\n",
    "        "
   ]
  },
  {
   "cell_type": "code",
   "execution_count": 22,
   "metadata": {
    "collapsed": true
   },
   "outputs": [],
   "source": [
    "I1 = C1('bob')"
   ]
  },
  {
   "cell_type": "code",
   "execution_count": 23,
   "metadata": {
    "collapsed": true
   },
   "outputs": [],
   "source": [
    "I2 = C1('sue')\n"
   ]
  },
  {
   "cell_type": "code",
   "execution_count": 24,
   "metadata": {},
   "outputs": [
    {
     "name": "stdout",
     "output_type": "stream",
     "text": [
      "bob\n"
     ]
    }
   ],
   "source": [
    "print(I1.name)\n"
   ]
  },
  {
   "cell_type": "code",
   "execution_count": 4,
   "metadata": {
    "collapsed": true
   },
   "outputs": [],
   "source": [
    "class Employee:\n",
    "    def computeSalary(self):\n",
    "        print('in Employee Compute Salary')\n",
    "    def giveRaise(self):\n",
    "        print('in Employee giveRaise')\n",
    "    def promote(self): \n",
    "        print('in Employee promote')\n",
    "    "
   ]
  },
  {
   "cell_type": "code",
   "execution_count": 5,
   "metadata": {
    "collapsed": true
   },
   "outputs": [],
   "source": [
    "class Engineer(Employee):\n",
    "    def computeSalary(self):\n",
    "        print('in Engineer Compute Salary')\n",
    "        return 'A'"
   ]
  },
  {
   "cell_type": "code",
   "execution_count": 6,
   "metadata": {
    "collapsed": true
   },
   "outputs": [],
   "source": [
    "a = Employee()\n",
    "b = Employee()\n",
    "c = Engineer()\n",
    "\n"
   ]
  },
  {
   "cell_type": "code",
   "execution_count": 7,
   "metadata": {},
   "outputs": [
    {
     "name": "stdout",
     "output_type": "stream",
     "text": [
      "in Employee Compute Salary\n",
      "None\n",
      "in Employee Compute Salary\n",
      "None\n",
      "in Engineer Compute Salary\n",
      "A\n"
     ]
    }
   ],
   "source": [
    "company = [a, b, c]\n",
    "for emp in company:\n",
    "    print(emp.computeSalary())"
   ]
  },
  {
   "cell_type": "code",
   "execution_count": 1,
   "metadata": {},
   "outputs": [
    {
     "name": "stdout",
     "output_type": "stream",
     "text": [
      "4\n",
      "5\n",
      "9\n"
     ]
    }
   ],
   "source": [
    "import math\n",
    " \n",
    "class Circle:\n",
    " \n",
    "    def __init__(self, radius):\n",
    "        self.__radius = radius\n",
    " \n",
    "    def setRadius(self, radius):\n",
    "        self.__radius = radius\n",
    " \n",
    "    def getRadius(self):\n",
    "        return self.__radius\n",
    " \n",
    "    def area(self):\n",
    "        return math.pi * self.__radius ** 2\n",
    " \n",
    "    def __add__(self, another_circle):\n",
    "        return Circle( self.__radius + another_circle.__radius )\n",
    " \n",
    "c1 = Circle(4)\n",
    "print(c1.getRadius())\n",
    " \n",
    "c2 = Circle(5)\n",
    "print(c2.getRadius())\n",
    " \n",
    "c3 = c1 + c2 # This became possible because we have overloaded + operator by adding a    method named __add__\n",
    "print(c3.getRadius())"
   ]
  },
  {
   "cell_type": "code",
   "execution_count": 2,
   "metadata": {},
   "outputs": [
    {
     "name": "stdout",
     "output_type": "stream",
     "text": [
      "4\n",
      "5\n",
      "9\n",
      "True\n",
      "True\n",
      "Circle with radius 9\n"
     ]
    }
   ],
   "source": [
    "import math\n",
    " \n",
    "class Circle:\n",
    " \n",
    "    def __init__(self, radius):\n",
    "        self.__radius = radius\n",
    " \n",
    "    def setRadius(self, radius):\n",
    "        self.__radius = radius\n",
    " \n",
    "    def getRadius(self):\n",
    "        return self.__radius\n",
    " \n",
    "    def area(self):\n",
    "        return math.pi * self.__radius ** 2\n",
    " \n",
    "    def __add__(self, another_circle):\n",
    "        return Circle( self.__radius + another_circle.__radius )\n",
    " \n",
    "    def __gt__(self, another_circle):\n",
    "        return self.__radius > another_circle.__radius\n",
    " \n",
    "    def __lt__(self, another_circle):\n",
    "        return self.__radius < another_circle.__radius\n",
    " \n",
    "    def __str__(self):\n",
    "        return \"Circle with radius \" + str(self.__radius)\n",
    " \n",
    "c1 = Circle(4)\n",
    "print(c1.getRadius())\n",
    " \n",
    "c2 = Circle(5)\n",
    "print(c2.getRadius())\n",
    " \n",
    "c3 = c1 + c2\n",
    "print(c3.getRadius())\n",
    " \n",
    "print( c3 > c2) # Became possible because we have added __gt__ method\n",
    " \n",
    "print( c1 < c2) # Became possible because we have added __lt__ method\n",
    " \n",
    "\n",
    "    print(c3) # Became possible because we have added __str__ method"
   ]
  },
  {
   "cell_type": "raw",
   "metadata": {},
   "source": [
    " #### Python magic methods\n",
    " \n",
    "\n",
    " We observe that python methods have double underscores before and after their names. These are special methods and are also called ‘dunders’. These help us implement functionality that a normal method can’t represent.\n",
    " \n",
    " __add__ for +\n",
    " \n",
    "__sub__ for –\n",
    "\n",
    "__mul__ for *\n",
    "\n",
    "__truediv__ for /\n",
    "\n",
    "__floordiv__ for //\n",
    "\n",
    "__mod__ for %\n",
    "\n",
    "__pow__ for **\n",
    "\n",
    "__and__ for &\n",
    "\n",
    "__xor__ for ^\n",
    "\n",
    "__or__ for |\n",
    "\n",
    "__lshift__ for <<\n",
    "\n",
    "__rshift__ for >>\n"
   ]
  },
  {
   "cell_type": "code",
   "execution_count": 8,
   "metadata": {
    "collapsed": true
   },
   "outputs": [],
   "source": [
    "class itspower:                 \n",
    "    def __init__(self,x):                  \n",
    "               self.x=x                 \n",
    "    def __pow__(self,other):                               \n",
    "       return self.x**other.x    "
   ]
  },
  {
   "cell_type": "code",
   "execution_count": 9,
   "metadata": {
    "collapsed": true
   },
   "outputs": [],
   "source": [
    "a=itspower(2)"
   ]
  },
  {
   "cell_type": "code",
   "execution_count": 11,
   "metadata": {
    "collapsed": true
   },
   "outputs": [],
   "source": [
    "b=itspower(10)"
   ]
  },
  {
   "cell_type": "code",
   "execution_count": 13,
   "metadata": {},
   "outputs": [
    {
     "data": {
      "text/plain": [
       "1024"
      ]
     },
     "execution_count": 13,
     "metadata": {},
     "output_type": "execute_result"
    }
   ],
   "source": [
    "a**b"
   ]
  },
  {
   "cell_type": "code",
   "execution_count": 14,
   "metadata": {
    "collapsed": true
   },
   "outputs": [],
   "source": [
    "class Person: \n",
    "    def __init__(self,name,age): \n",
    "         self.name=name \n",
    "         self.age=age \n",
    "    def __gt__(self,other): \n",
    "        if self.age>other.age: \n",
    "             return True \n",
    "        return False \n",
    "    def __abs__(self): \n",
    "        return abs(self.age) \n",
    "    def __iadd__(self,other): \n",
    "        return self.age+other.age "
   ]
  },
  {
   "cell_type": "code",
   "execution_count": 15,
   "metadata": {
    "collapsed": true
   },
   "outputs": [],
   "source": [
    "sanjot=Person('sanjot',7)"
   ]
  },
  {
   "cell_type": "code",
   "execution_count": 16,
   "metadata": {
    "collapsed": true
   },
   "outputs": [],
   "source": [
    "sanjot1=Person('sanjot1',5) "
   ]
  },
  {
   "cell_type": "code",
   "execution_count": 18,
   "metadata": {},
   "outputs": [
    {
     "data": {
      "text/plain": [
       "False"
      ]
     },
     "execution_count": 18,
     "metadata": {},
     "output_type": "execute_result"
    }
   ],
   "source": [
    "sanjot<sanjot1\n"
   ]
  },
  {
   "cell_type": "code",
   "execution_count": 19,
   "metadata": {
    "collapsed": true
   },
   "outputs": [],
   "source": [
    "sanjot2=Person('sanjot2',-8)"
   ]
  },
  {
   "cell_type": "code",
   "execution_count": 20,
   "metadata": {},
   "outputs": [
    {
     "data": {
      "text/plain": [
       "8"
      ]
     },
     "execution_count": 20,
     "metadata": {},
     "output_type": "execute_result"
    }
   ],
   "source": [
    "abs(sanjot2)"
   ]
  },
  {
   "cell_type": "code",
   "execution_count": null,
   "metadata": {
    "collapsed": true
   },
   "outputs": [],
   "source": []
  }
 ],
 "metadata": {
  "kernelspec": {
   "display_name": "Python [conda root]",
   "language": "python",
   "name": "conda-root-py"
  },
  "language_info": {
   "codemirror_mode": {
    "name": "ipython",
    "version": 3
   },
   "file_extension": ".py",
   "mimetype": "text/x-python",
   "name": "python",
   "nbconvert_exporter": "python",
   "pygments_lexer": "ipython3",
   "version": "3.5.4"
  },
  "toc": {
   "base_numbering": 1,
   "nav_menu": {},
   "number_sections": true,
   "sideBar": true,
   "skip_h1_title": false,
   "title_cell": "Table of Contents",
   "title_sidebar": "Contents",
   "toc_cell": false,
   "toc_position": {},
   "toc_section_display": true,
   "toc_window_display": false
  }
 },
 "nbformat": 4,
 "nbformat_minor": 2
}
