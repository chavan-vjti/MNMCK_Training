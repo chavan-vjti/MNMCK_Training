{
 "cells": [
  {
   "cell_type": "markdown",
   "metadata": {},
   "source": [
    "## Lambda functions"
   ]
  },
  {
   "cell_type": "code",
   "execution_count": 21,
   "metadata": {},
   "outputs": [
    {
     "ename": "SyntaxError",
     "evalue": "invalid syntax (<ipython-input-21-d08cd94ffdb6>, line 1)",
     "output_type": "error",
     "traceback": [
      "\u001b[0;36m  File \u001b[0;32m\"<ipython-input-21-d08cd94ffdb6>\"\u001b[0;36m, line \u001b[0;32m1\u001b[0m\n\u001b[0;31m    l = lambda n: n in range(5): print(n)\u001b[0m\n\u001b[0m                               ^\u001b[0m\n\u001b[0;31mSyntaxError\u001b[0m\u001b[0;31m:\u001b[0m invalid syntax\n"
     ]
    }
   ],
   "source": [
    "l = lambda n: n in range(5): print(n)\n",
    "l()\n",
    "# f = lambda x,y,z: x+y+z\n",
    "# f(3,4,5)"
   ]
  },
  {
   "cell_type": "code",
   "execution_count": 27,
   "metadata": {},
   "outputs": [
    {
     "data": {
      "text/plain": [
       "'one two ka four'"
      ]
     },
     "execution_count": 27,
     "metadata": {},
     "output_type": "execute_result"
    }
   ],
   "source": [
    "x = lambda a='sid', b='dhe',c='sh': a+b+c\n",
    "x('one',' two ','ka four')"
   ]
  },
  {
   "cell_type": "code",
   "execution_count": 44,
   "metadata": {},
   "outputs": [
    {
     "name": "stdout",
     "output_type": "stream",
     "text": [
      "<function demo.<locals>.<lambda> at 0x1041b1bf8>\n"
     ]
    }
   ],
   "source": [
    "def demo():\n",
    "    title='sid'\n",
    "    action = lambda x: title + x\n",
    "    return action"
   ]
  },
  {
   "cell_type": "code",
   "execution_count": 56,
   "metadata": {},
   "outputs": [
    {
     "name": "stdout",
     "output_type": "stream",
     "text": [
      "125\n",
      "125\n",
      "125\n"
     ]
    }
   ],
   "source": [
    "L = [lambda x: x**2, lambda x: x**3, lambda x: x-1]\n",
    "for f in L:\n",
    "    print(L[1](5))"
   ]
  },
  {
   "cell_type": "code",
   "execution_count": 64,
   "metadata": {},
   "outputs": [
    {
     "name": "stdout",
     "output_type": "stream",
     "text": [
      "23\n"
     ]
    }
   ],
   "source": [
    "def demo(x):\n",
    "    return (lambda y: x+y)\n",
    "z = demo(3)(20)\n",
    "print(z)"
   ]
  },
  {
   "cell_type": "markdown",
   "metadata": {},
   "source": [
    "## map"
   ]
  },
  {
   "cell_type": "code",
   "execution_count": 83,
   "metadata": {},
   "outputs": [
    {
     "name": "stdout",
     "output_type": "stream",
     "text": [
      "(16, 18, 13, 19, 23)\n"
     ]
    }
   ],
   "source": [
    "a=[6,8,3,9,13]\n",
    "b = tuple(map(lambda x: x+10, a))\n",
    "print(b)"
   ]
  },
  {
   "cell_type": "code",
   "execution_count": 92,
   "metadata": {},
   "outputs": [],
   "source": [
    "b = [map((lambda x: x+2), a)]"
   ]
  },
  {
   "cell_type": "code",
   "execution_count": 93,
   "metadata": {},
   "outputs": [
    {
     "data": {
      "text/plain": [
       "[20, 30, 40]"
      ]
     },
     "execution_count": 93,
     "metadata": {},
     "output_type": "execute_result"
    }
   ],
   "source": [
    "def selfmap(fun, seq):\n",
    "    res=[]\n",
    "    for x in seq:\n",
    "        res.append(fun(x))\n",
    "    return res\n",
    "selfmap(lambda x:x*10,[2,3,4])"
   ]
  },
  {
   "cell_type": "code",
   "execution_count": 98,
   "metadata": {},
   "outputs": [
    {
     "name": "stdout",
     "output_type": "stream",
     "text": [
      "[5, 7, 9, 10]\n"
     ]
    }
   ],
   "source": [
    "list1 = [1,2,3,5]\n",
    "list2 = [4,5,6,5]\n",
    "a = list(map(lambda x,y: x+y, list1, list2))\n",
    "print(a)"
   ]
  },
  {
   "cell_type": "markdown",
   "metadata": {},
   "source": [
    "## filter"
   ]
  },
  {
   "cell_type": "code",
   "execution_count": 112,
   "metadata": {},
   "outputs": [
    {
     "name": "stdout",
     "output_type": "stream",
     "text": [
      "[-5, -4, -3, -2, -1, 0, 1, 2, 3, 4, 5]\n",
      "[-5, -4, -3, -2, -1, 1, 2, 3, 4, 5]\n"
     ]
    }
   ],
   "source": [
    "list1 = [x for x in range(-5,6)]\n",
    "print(list1)\n",
    "list2 = list(filter(lambda x: x, list1))\n",
    "print(list2)"
   ]
  },
  {
   "cell_type": "markdown",
   "metadata": {},
   "source": [
    "## reduce"
   ]
  },
  {
   "cell_type": "code",
   "execution_count": 115,
   "metadata": {},
   "outputs": [
    {
     "name": "stdout",
     "output_type": "stream",
     "text": [
      "7\n"
     ]
    }
   ],
   "source": [
    "from functools import reduce\n",
    "a=reduce(lambda x,y: x+y,[5,2])\n",
    "print(a)\n",
    "b=reduce(lambda x,y: x**y,[5,2])\n",
    "print(b)"
   ]
  },
  {
   "cell_type": "code",
   "execution_count": 124,
   "metadata": {},
   "outputs": [
    {
     "data": {
      "text/plain": [
       "6"
      ]
     },
     "execution_count": 124,
     "metadata": {},
     "output_type": "execute_result"
    }
   ],
   "source": [
    "def selfreduce(fun, seq):\n",
    "    tally = seq[0]\n",
    "    for next1 in seq[1:]:\n",
    "        tally = fun(next1)\n",
    "    return tally\n",
    "selfreduce(lambda x: x+x, [1,2,3])"
   ]
  },
  {
   "cell_type": "code",
   "execution_count": 132,
   "metadata": {},
   "outputs": [
    {
     "name": "stdout",
     "output_type": "stream",
     "text": [
      "[\"('si', 'BA')\", \"('dd', 'RC')\", \"('he', 'IN')\"]\n"
     ]
    }
   ],
   "source": [
    "a= ['si','dd','he','sh']\n",
    "b=['BA','RC','IN']\n",
    "c = list(map(str, zip(a,b)))\n",
    "print(c)"
   ]
  },
  {
   "cell_type": "code",
   "execution_count": 133,
   "metadata": {},
   "outputs": [],
   "source": [
    "import pandas as pd\n",
    "df_1 = pd.read_csv('maptest.csv')"
   ]
  },
  {
   "cell_type": "code",
   "execution_count": 141,
   "metadata": {},
   "outputs": [],
   "source": [
    "import random\n",
    "state = list(zip(df_1['State Name'], df_1['District Name'], df_1['Tehsil Name'], \n",
    "                 df_1['Area Name']))\n",
    "             "
   ]
  },
  {
   "cell_type": "code",
   "execution_count": 147,
   "metadata": {},
   "outputs": [],
   "source": [
    "temp_list = []\n",
    "for a,b,c,d in state:\n",
    "    a1 = a[0:2]\n",
    "    b1= b[0:2]\n",
    "    c1= c[0:2]\n",
    "    d1 = d[0:5]\n",
    "    n = str(random.randint(100, 999))\n",
    "    e = a1+b1+c1+d1+n\n",
    "    temp_list.append(e)\n",
    "df_1['key'] = temp_list"
   ]
  },
  {
   "cell_type": "code",
   "execution_count": null,
   "metadata": {},
   "outputs": [],
   "source": []
  }
 ],
 "metadata": {
  "kernelspec": {
   "display_name": "python37",
   "language": "python",
   "name": "python37"
  },
  "language_info": {
   "codemirror_mode": {
    "name": "ipython",
    "version": 3
   },
   "file_extension": ".py",
   "mimetype": "text/x-python",
   "name": "python",
   "nbconvert_exporter": "python",
   "pygments_lexer": "ipython3",
   "version": "3.7.0"
  }
 },
 "nbformat": 4,
 "nbformat_minor": 2
}
